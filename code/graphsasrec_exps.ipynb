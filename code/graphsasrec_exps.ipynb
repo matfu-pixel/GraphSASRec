{
 "cells": [
  {
   "cell_type": "code",
   "execution_count": 1,
   "metadata": {},
   "outputs": [],
   "source": [
    "import pandas as pd\n",
    "import sys\n",
    "sys.path.append('../src/')\n",
    "from utils.metrics import RecallK, DiversityK, LongTailK\n",
    "from datasets.datasets import SASRecDataset, TwhinDataset\n",
    "import torch\n",
    "from torch.utils.data import DataLoader\n",
    "from models.sasrec import SASRec\n",
    "from models.graph_encoders import TwhinGraphEncoder\n",
    "from utils.losses import TwhinLoss\n",
    "from torch.utils.tensorboard import SummaryWriter\n",
    "import numpy as np\n",
    "\n",
    "import matplotlib.pyplot as plt\n",
    "\n",
    "%load_ext autoreload\n",
    "%autoreload 2"
   ]
  },
  {
   "cell_type": "code",
   "execution_count": 2,
   "metadata": {},
   "outputs": [],
   "source": [
    "args = {\n",
    "    'device': 'cpu', \n",
    "    'hidden_units': 50, \n",
    "    'dropout_rate': 0.5,\n",
    "    'num_blocks': 2,\n",
    "    'num_heads': 1,\n",
    "    'maxlen': 128,\n",
    "    'batch_size': 2048,\n",
    "    'num_epochs_sasrec': 100, \n",
    "    'num_epochs_twhin': 50\n",
    "}"
   ]
  },
  {
   "cell_type": "markdown",
   "metadata": {},
   "source": [
    "# 1. Читаем данные"
   ]
  },
  {
   "cell_type": "code",
   "execution_count": 3,
   "metadata": {},
   "outputs": [
    {
     "data": {
      "text/html": [
       "<div>\n",
       "<style scoped>\n",
       "    .dataframe tbody tr th:only-of-type {\n",
       "        vertical-align: middle;\n",
       "    }\n",
       "\n",
       "    .dataframe tbody tr th {\n",
       "        vertical-align: top;\n",
       "    }\n",
       "\n",
       "    .dataframe thead th {\n",
       "        text-align: right;\n",
       "    }\n",
       "</style>\n",
       "<table border=\"1\" class=\"dataframe\">\n",
       "  <thead>\n",
       "    <tr style=\"text-align: right;\">\n",
       "      <th></th>\n",
       "      <th>UserID</th>\n",
       "      <th>MovieID</th>\n",
       "      <th>Rating</th>\n",
       "      <th>history</th>\n",
       "      <th>candidate</th>\n",
       "      <th>timestamp</th>\n",
       "      <th>Genre</th>\n",
       "    </tr>\n",
       "  </thead>\n",
       "  <tbody>\n",
       "    <tr>\n",
       "      <th>0</th>\n",
       "      <td>3403</td>\n",
       "      <td>6</td>\n",
       "      <td>4</td>\n",
       "      <td>[[413, Airheads, [Comedy], M, 35, 5, 48342, 19...</td>\n",
       "      <td>[6, Heat, [Action, Crime, Thriller], M, 35, 5,...</td>\n",
       "      <td>967429703</td>\n",
       "      <td>[Action, Crime, Thriller]</td>\n",
       "    </tr>\n",
       "    <tr>\n",
       "      <th>1</th>\n",
       "      <td>4630</td>\n",
       "      <td>1883</td>\n",
       "      <td>3</td>\n",
       "      <td>[[593, Silence of the Lambs, The, [Drama, Thri...</td>\n",
       "      <td>[1883, Bulworth, [Comedy], F, 25, 4, 94610, 19...</td>\n",
       "      <td>964040034</td>\n",
       "      <td>[Comedy]</td>\n",
       "    </tr>\n",
       "    <tr>\n",
       "      <th>2</th>\n",
       "      <td>2882</td>\n",
       "      <td>27</td>\n",
       "      <td>3</td>\n",
       "      <td>[[2683, Austin Powers: The Spy Who Shagged Me,...</td>\n",
       "      <td>[27, Now and Then, [Drama], M, 18, 20, 78759, ...</td>\n",
       "      <td>972243969</td>\n",
       "      <td>[Drama]</td>\n",
       "    </tr>\n",
       "    <tr>\n",
       "      <th>3</th>\n",
       "      <td>3513</td>\n",
       "      <td>593</td>\n",
       "      <td>5</td>\n",
       "      <td>[[908, North by Northwest, [Drama, Thriller], ...</td>\n",
       "      <td>[593, Silence of the Lambs, The, [Drama, Thril...</td>\n",
       "      <td>966976389</td>\n",
       "      <td>[Drama, Thriller]</td>\n",
       "    </tr>\n",
       "    <tr>\n",
       "      <th>4</th>\n",
       "      <td>2010</td>\n",
       "      <td>2759</td>\n",
       "      <td>2</td>\n",
       "      <td>[[2021, Dune, [Fantasy, Sci-Fi], M, 18, 4, 815...</td>\n",
       "      <td>[2759, Dick, [Comedy], M, 18, 4, 81520, 1999, ...</td>\n",
       "      <td>974680399</td>\n",
       "      <td>[Comedy]</td>\n",
       "    </tr>\n",
       "  </tbody>\n",
       "</table>\n",
       "</div>"
      ],
      "text/plain": [
       "   UserID  MovieID  Rating                                            history  \\\n",
       "0    3403        6       4  [[413, Airheads, [Comedy], M, 35, 5, 48342, 19...   \n",
       "1    4630     1883       3  [[593, Silence of the Lambs, The, [Drama, Thri...   \n",
       "2    2882       27       3  [[2683, Austin Powers: The Spy Who Shagged Me,...   \n",
       "3    3513      593       5  [[908, North by Northwest, [Drama, Thriller], ...   \n",
       "4    2010     2759       2  [[2021, Dune, [Fantasy, Sci-Fi], M, 18, 4, 815...   \n",
       "\n",
       "                                           candidate  timestamp  \\\n",
       "0  [6, Heat, [Action, Crime, Thriller], M, 35, 5,...  967429703   \n",
       "1  [1883, Bulworth, [Comedy], F, 25, 4, 94610, 19...  964040034   \n",
       "2  [27, Now and Then, [Drama], M, 18, 20, 78759, ...  972243969   \n",
       "3  [593, Silence of the Lambs, The, [Drama, Thril...  966976389   \n",
       "4  [2759, Dick, [Comedy], M, 18, 4, 81520, 1999, ...  974680399   \n",
       "\n",
       "                       Genre  \n",
       "0  [Action, Crime, Thriller]  \n",
       "1                   [Comedy]  \n",
       "2                    [Drama]  \n",
       "3          [Drama, Thriller]  \n",
       "4                   [Comedy]  "
      ]
     },
     "execution_count": 3,
     "metadata": {},
     "output_type": "execute_result"
    }
   ],
   "source": [
    "train = pd.read_pickle('../code/data/ml-1m/train.csv')\n",
    "val = pd.read_pickle('../code/data/ml-1m/val.csv')\n",
    "train.head()"
   ]
  },
  {
   "cell_type": "code",
   "execution_count": 47,
   "metadata": {},
   "outputs": [],
   "source": [
    "def take_last_user_history(user):\n",
    "    gold_timestamp = 0\n",
    "    gold_history = []\n",
    "\n",
    "    for history, timestamp, candidate in zip(user['history'], user['timestamp'], user['candidate']):\n",
    "        if timestamp > gold_timestamp:\n",
    "            gold_timestamp = timestamp\n",
    "            gold_history = history\n",
    "    return gold_history"
   ]
  },
  {
   "cell_type": "code",
   "execution_count": 48,
   "metadata": {},
   "outputs": [],
   "source": [
    "user_last_history = train.groupby('UserID').apply(take_last_user_history).reset_index()\n",
    "user_last_history['history'] = user_last_history[0]\n",
    "user_last_history = user_last_history[['UserID', 'history']]\n",
    "user_last_history.to_pickle('data/ml-1m/user_last_history.pkl')"
   ]
  },
  {
   "cell_type": "code",
   "execution_count": 49,
   "metadata": {},
   "outputs": [
    {
     "data": {
      "text/html": [
       "<div>\n",
       "<style scoped>\n",
       "    .dataframe tbody tr th:only-of-type {\n",
       "        vertical-align: middle;\n",
       "    }\n",
       "\n",
       "    .dataframe tbody tr th {\n",
       "        vertical-align: top;\n",
       "    }\n",
       "\n",
       "    .dataframe thead th {\n",
       "        text-align: right;\n",
       "    }\n",
       "</style>\n",
       "<table border=\"1\" class=\"dataframe\">\n",
       "  <thead>\n",
       "    <tr style=\"text-align: right;\">\n",
       "      <th></th>\n",
       "      <th>UserID</th>\n",
       "      <th>history</th>\n",
       "    </tr>\n",
       "  </thead>\n",
       "  <tbody>\n",
       "    <tr>\n",
       "      <th>0</th>\n",
       "      <td>1</td>\n",
       "      <td>[[3186, Girl, Interrupted, [Drama], F, 1, 10, ...</td>\n",
       "    </tr>\n",
       "    <tr>\n",
       "      <th>1</th>\n",
       "      <td>2</td>\n",
       "      <td>[[1198, Raiders of the Lost Ark, [Action, Adve...</td>\n",
       "    </tr>\n",
       "    <tr>\n",
       "      <th>2</th>\n",
       "      <td>3</td>\n",
       "      <td>[[593, Silence of the Lambs, The, [Drama, Thri...</td>\n",
       "    </tr>\n",
       "    <tr>\n",
       "      <th>3</th>\n",
       "      <td>4</td>\n",
       "      <td>[[1210, Star Wars: Episode VI - Return of the ...</td>\n",
       "    </tr>\n",
       "    <tr>\n",
       "      <th>4</th>\n",
       "      <td>5</td>\n",
       "      <td>[[1719, Sweet Hereafter, The, [Drama], M, 25, ...</td>\n",
       "    </tr>\n",
       "    <tr>\n",
       "      <th>...</th>\n",
       "      <td>...</td>\n",
       "      <td>...</td>\n",
       "    </tr>\n",
       "    <tr>\n",
       "      <th>6029</th>\n",
       "      <td>6036</td>\n",
       "      <td>[[808, Alaska, [Adventure, Children's], F, 25,...</td>\n",
       "    </tr>\n",
       "    <tr>\n",
       "      <th>6030</th>\n",
       "      <td>6037</td>\n",
       "      <td>[[1953, French Connection, The, [Action, Crime...</td>\n",
       "    </tr>\n",
       "    <tr>\n",
       "      <th>6031</th>\n",
       "      <td>6038</td>\n",
       "      <td>[[920, Gone with the Wind, [Drama, Romance, Wa...</td>\n",
       "    </tr>\n",
       "    <tr>\n",
       "      <th>6032</th>\n",
       "      <td>6039</td>\n",
       "      <td>[[282, Nell, [Drama], F, 45, 0, 01060, 1994, 9...</td>\n",
       "    </tr>\n",
       "    <tr>\n",
       "      <th>6033</th>\n",
       "      <td>6040</td>\n",
       "      <td>[[3097, Shop Around the Corner, The, [Comedy, ...</td>\n",
       "    </tr>\n",
       "  </tbody>\n",
       "</table>\n",
       "<p>6034 rows × 2 columns</p>\n",
       "</div>"
      ],
      "text/plain": [
       "      UserID                                            history\n",
       "0          1  [[3186, Girl, Interrupted, [Drama], F, 1, 10, ...\n",
       "1          2  [[1198, Raiders of the Lost Ark, [Action, Adve...\n",
       "2          3  [[593, Silence of the Lambs, The, [Drama, Thri...\n",
       "3          4  [[1210, Star Wars: Episode VI - Return of the ...\n",
       "4          5  [[1719, Sweet Hereafter, The, [Drama], M, 25, ...\n",
       "...      ...                                                ...\n",
       "6029    6036  [[808, Alaska, [Adventure, Children's], F, 25,...\n",
       "6030    6037  [[1953, French Connection, The, [Action, Crime...\n",
       "6031    6038  [[920, Gone with the Wind, [Drama, Romance, Wa...\n",
       "6032    6039  [[282, Nell, [Drama], F, 45, 0, 01060, 1994, 9...\n",
       "6033    6040  [[3097, Shop Around the Corner, The, [Comedy, ...\n",
       "\n",
       "[6034 rows x 2 columns]"
      ]
     },
     "execution_count": 49,
     "metadata": {},
     "output_type": "execute_result"
    }
   ],
   "source": [
    "user_last_history"
   ]
  },
  {
   "cell_type": "markdown",
   "metadata": {},
   "source": [
    "# 2. Обучаем SASRec"
   ]
  },
  {
   "cell_type": "code",
   "execution_count": 4,
   "metadata": {},
   "outputs": [
    {
     "name": "stderr",
     "output_type": "stream",
     "text": [
      "916429it [00:24, 37835.83it/s]\n",
      "77740it [00:01, 47072.67it/s]"
     ]
    },
    {
     "name": "stdout",
     "output_type": "stream",
     "text": [
      "447 38\n"
     ]
    },
    {
     "name": "stderr",
     "output_type": "stream",
     "text": [
      "\n"
     ]
    }
   ],
   "source": [
    "train_dataset_sasrec = SASRecDataset(train)\n",
    "val_dataset_sasrec = SASRecDataset(val)\n",
    "train_dataloader_sasrec = DataLoader(train_dataset_sasrec, batch_size=args['batch_size'], collate_fn=SASRecDataset.collate_fn, drop_last=True)\n",
    "val_dataloader_sasrec = DataLoader(val_dataset_sasrec, batch_size=args['batch_size'], collate_fn=SASRecDataset.collate_fn)\n",
    "print(len(train_dataloader_sasrec), len(val_dataloader_sasrec))\n",
    "\n",
    "model = SASRec(3952, args).to(args['device'])\n",
    "optimizer = torch.optim.Adam(model.parameters(), lr=0.001, betas=(0.9, 0.98))\n",
    "writer = SummaryWriter(log_dir='./sasrec')\n",
    "\n",
    "\n",
    "def train_epoch_sasrec(model, optimizer, epoch, train_dataloader, writer):\n",
    "    model.train()\n",
    "    last_loss = -1\n",
    "    for idx, batch in enumerate(train_dataloader):\n",
    "        optimizer.zero_grad()\n",
    "\n",
    "        historys = batch['users']\n",
    "        positives = batch['candidates']\n",
    "        perm = torch.randperm(positives.shape[0])\n",
    "        negatives = positives[perm]\n",
    "        logits_pos, logits_neg = model(historys, positives, negatives)\n",
    "        logits = torch.cat([logits_pos, logits_neg], dim=0)\n",
    "        labels = torch.cat([torch.ones(logits_pos.shape[0]).to(args['device']), torch.zeros(logits_neg.shape[0]).to(args['device'])])\n",
    "        loss = loss_fn(logits, labels)\n",
    "\n",
    "        writer.add_scalar('Train/BCE', loss.item(), global_step=idx + epoch * len(train_dataloader))\n",
    "        last_loss = loss.item() \n",
    "\n",
    "        loss.backward()\n",
    "        optimizer.step()\n",
    "    \n",
    "    return last_loss\n",
    "\n",
    "def val_epoch_sasrec(model, epoch, val_dataloader, train_dataloader, writer, loss_fn):\n",
    "    model.eval()\n",
    "    sum_loss = 0\n",
    "    cnt = 0\n",
    "    with torch.no_grad():\n",
    "        for batch in val_dataloader:\n",
    "            cnt += 1\n",
    "            historys = batch['users']\n",
    "            positives = batch['candidates']\n",
    "            perm = torch.randperm(positives.shape[0])\n",
    "            negatives = positives[perm]\n",
    "            logits_pos, logits_neg = model(historys, positives, negatives)\n",
    "            logits = torch.cat([logits_pos, logits_neg], dim=0)\n",
    "            labels = torch.cat([torch.ones(logits_pos.shape[0]).to(args['device']), torch.zeros(logits_neg.shape[0]).to(args['device'])], dim=0)\n",
    "            loss = loss_fn(logits, labels)\n",
    "            sum_loss += loss.item()\n",
    "        \n",
    "        writer.add_scalar('Val/BCE', sum_loss / cnt, global_step=(epoch + 1) * len(train_dataloader))\n",
    "    \n",
    "    return sum_loss / cnt"
   ]
  },
  {
   "cell_type": "code",
   "execution_count": 5,
   "metadata": {},
   "outputs": [],
   "source": [
    "# for epoch in range(args['num_epochs_sasrec']):\n",
    "#     train_loss = train_epoch_sasrec(model, optimizer, epoch, train_dataloader_sasrec, writer, torch.nn.BCEWithLogitsLoss())\n",
    "#     print(f'Train bce loss on epoch {epoch + 1}: {train_loss}')\n",
    "#     val_loss = val_epoch_sasrec(model, epoch, val_dataloader_sasrec, train_dataloader_sasrec, writer, torch.nn.BCEWithLogitsLoss())\n",
    "#     print(f'Val bce loss on epoch {epoch + 1}: {val_loss}')"
   ]
  },
  {
   "cell_type": "markdown",
   "metadata": {},
   "source": [
    "# 3. Обучаем twhin-like графовые вектора"
   ]
  },
  {
   "cell_type": "code",
   "execution_count": 6,
   "metadata": {},
   "outputs": [
    {
     "name": "stderr",
     "output_type": "stream",
     "text": [
      "916429it [00:00, 2279871.82it/s]\n",
      "77740it [00:00, 1904686.54it/s]"
     ]
    },
    {
     "name": "stdout",
     "output_type": "stream",
     "text": [
      "447 38\n"
     ]
    },
    {
     "name": "stderr",
     "output_type": "stream",
     "text": [
      "\n"
     ]
    }
   ],
   "source": [
    "train_dataset_twhin = TwhinDataset(train)\n",
    "val_dataset_twhin = TwhinDataset(val)\n",
    "\n",
    "train_dataloader_twhin = DataLoader(train_dataset_twhin, batch_size=args['batch_size'], collate_fn=TwhinDataset.collate_fn, drop_last=True)\n",
    "val_dataloader_twhin = DataLoader(val_dataset_twhin, batch_size=args['batch_size'], collate_fn=TwhinDataset.collate_fn)\n",
    "print(len(train_dataloader_twhin), len(val_dataloader_twhin))\n",
    "\n",
    "model = TwhinGraphEncoder(6040, 3952, 5, args).to(args['device'])\n",
    "optimizer = torch.optim.Adam(model.parameters(), lr=0.001, betas=(0.9, 0.98))\n",
    "loss_fn = TwhinLoss(reg_weight=1)\n",
    "writer = SummaryWriter(log_dir='./twhin')\n",
    "\n",
    "\n",
    "def train_epoch_twhin(model, optimizer, epoch, train_dataloader, writer, loss_fn):\n",
    "    model.train()\n",
    "    last_loss = -1\n",
    "    for idx, batch in enumerate(train_dataloader):\n",
    "        optimizer.zero_grad()\n",
    "\n",
    "        users = batch['users']\n",
    "        types = batch['types']\n",
    "        items = batch['items']\n",
    "        \n",
    "        users_output, items_output = model(users, items, types)\n",
    "        twhin_loss, l2_reg = loss_fn(users_output, items_output)\n",
    "        loss = twhin_loss + l2_reg\n",
    "\n",
    "        writer.add_scalar('Train/link_prediction', twhin_loss.item(), global_step=idx + epoch * len(train_dataloader))\n",
    "        writer.add_scalar('Train/total_loss', loss.item(), global_step=idx + epoch * len(train_dataloader))\n",
    "\n",
    "        last_loss = twhin_loss.item() \n",
    "\n",
    "        loss.backward()\n",
    "        optimizer.step()\n",
    "    \n",
    "    return last_loss\n",
    "\n",
    "def val_epoch_twhin(model, epoch, val_dataloader, train_dataloader, writer, loss_fn):\n",
    "    model.eval()\n",
    "    sum_loss = 0\n",
    "    cnt = 0\n",
    "    with torch.no_grad():\n",
    "        for batch in val_dataloader:\n",
    "            cnt += 1\n",
    "            users = batch['users']\n",
    "            types = batch['types']\n",
    "            items = batch['items']\n",
    "            \n",
    "            users_output, items_output = model(users, items, types)\n",
    "            twhin_loss, l2_reg = loss_fn(users_output, items_output)\n",
    "\n",
    "            sum_loss += twhin_loss.item()\n",
    "        \n",
    "        writer.add_scalar('Val/link_prediction', sum_loss / cnt, global_step=(epoch + 1) * len(train_dataloader))\n",
    "    \n",
    "    return sum_loss / cnt"
   ]
  },
  {
   "cell_type": "code",
   "execution_count": 7,
   "metadata": {},
   "outputs": [],
   "source": [
    "# for epoch in range(args['num_epochs_twhin']):\n",
    "#     train_loss = train_epoch_twhin(model, optimizer, epoch, train_dataloader_twhin, writer, loss_fn)\n",
    "#     print(f'Train link-prediction loss on epoch {epoch + 1}: {train_loss}')\n",
    "#     val_loss = val_epoch_twhin(model, epoch, val_dataloader_twhin, train_dataloader_twhin, writer, loss_fn)\n",
    "#     print(f'Val link-prediction loss on epoch {epoch + 1}: {val_loss}')"
   ]
  },
  {
   "cell_type": "markdown",
   "metadata": {},
   "source": [
    "# 4. Обучаем SASRec, дополненный первой версией графовых векторов"
   ]
  },
  {
   "cell_type": "code",
   "execution_count": 15,
   "metadata": {},
   "outputs": [
    {
     "data": {
      "text/plain": [
       "<All keys matched successfully>"
      ]
     },
     "execution_count": 15,
     "metadata": {},
     "output_type": "execute_result"
    }
   ],
   "source": [
    "model = TwhinGraphEncoder(6040, 3952, 5, args).to(args['device'])\n",
    "model.load_state_dict(torch.load('../code/data/ml-1m/twhin.pth', map_location=torch.device(args['device'])))"
   ]
  },
  {
   "cell_type": "code",
   "execution_count": 22,
   "metadata": {},
   "outputs": [
    {
     "data": {
      "text/plain": [
       "tensor([[ 1.3795,  0.0159,  1.8848,  ..., -1.7963,  1.6350,  0.9175],\n",
       "        [ 1.7487,  1.3530, -1.5345,  ...,  0.6462, -0.4403,  0.3399],\n",
       "        [-1.5274,  0.4883, -0.9484,  ...,  1.2732,  0.6938,  0.1733],\n",
       "        ...,\n",
       "        [ 0.4999,  1.2453, -0.7402,  ...,  2.0377, -0.4812, -1.0521],\n",
       "        [-1.2722,  0.0198,  0.4991,  ..., -0.2687, -0.7499,  0.5062],\n",
       "        [-0.8187, -0.9921,  0.5787,  ...,  2.3518, -0.0396,  1.1549]])"
      ]
     },
     "execution_count": 22,
     "metadata": {},
     "output_type": "execute_result"
    }
   ],
   "source": [
    "graph_vectors = model.item_emb.weight.data\n",
    "graph_vectors"
   ]
  },
  {
   "cell_type": "markdown",
   "metadata": {},
   "source": [
    "# Остальной код в скриптах..."
   ]
  },
  {
   "cell_type": "markdown",
   "metadata": {},
   "source": [
    "# Результаты"
   ]
  },
  {
   "cell_type": "markdown",
   "metadata": {},
   "source": [
    "|Model| Recall@50 | Diversity@50 | LongTail@50|\n",
    "|-|-|-|-|\n",
    "|Top-50|13.25% | 16.0 | 2042.0 |\n",
    "| KNNBasic| 5.72% | 15.13 | 194.62 |\n",
    "| SVD | 12.58% | 14.77 | 479.57 |"
   ]
  },
  {
   "cell_type": "markdown",
   "metadata": {},
   "source": []
  }
 ],
 "metadata": {
  "kernelspec": {
   "display_name": "base",
   "language": "python",
   "name": "python3"
  },
  "language_info": {
   "codemirror_mode": {
    "name": "ipython",
    "version": 3
   },
   "file_extension": ".py",
   "mimetype": "text/x-python",
   "name": "python",
   "nbconvert_exporter": "python",
   "pygments_lexer": "ipython3",
   "version": "3.11.4"
  }
 },
 "nbformat": 4,
 "nbformat_minor": 2
}
