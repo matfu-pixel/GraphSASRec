{
 "cells": [
  {
   "cell_type": "code",
   "execution_count": 465,
   "metadata": {},
   "outputs": [
    {
     "name": "stdout",
     "output_type": "stream",
     "text": [
      "The autoreload extension is already loaded. To reload it, use:\n",
      "  %reload_ext autoreload\n"
     ]
    }
   ],
   "source": [
    "import pandas as pd\n",
    "import sys\n",
    "sys.path.append('../src/')\n",
    "from varka.ml_varka import MovieLenseVarka\n",
    "from utils.metric import RecallK\n",
    "\n",
    "import matplotlib.pyplot as plt\n",
    "\n",
    "%load_ext autoreload\n",
    "%autoreload 2"
   ]
  },
  {
   "cell_type": "markdown",
   "metadata": {},
   "source": [
    "## 1. Готовим данные\n",
    "В качестве теста отщипляем последние 2 месяца."
   ]
  },
  {
   "cell_type": "code",
   "execution_count": 459,
   "metadata": {},
   "outputs": [
    {
     "name": "stdout",
     "output_type": "stream",
     "text": [
      "number of rows in train: 916429\n",
      "number of rows in val: 77740\n"
     ]
    }
   ],
   "source": [
    "# 956703954 + 60 * 60 * 24 * 7 * 4 * 10 = 980895954\n",
    "varka = MovieLenseVarka('../code/data/ml-1m/movies.dat', '../code/data/ml-1m/users.dat', '../code/data/ml-1m/ratings.dat', \n",
    "                        980895954, '../code/data/ml-1m/train.csv', '../code/data/ml-1m/val.csv', 128) # 10 months to train\n",
    "varka.do_varka()"
   ]
  },
  {
   "cell_type": "code",
   "execution_count": 460,
   "metadata": {},
   "outputs": [],
   "source": [
    "train = pd.read_pickle('../code/data/ml-1m/train.csv')\n",
    "val = pd.read_pickle('../code/data/ml-1m/val.csv')"
   ]
  },
  {
   "cell_type": "code",
   "execution_count": 461,
   "metadata": {},
   "outputs": [
    {
     "data": {
      "text/html": [
       "<div>\n",
       "<style scoped>\n",
       "    .dataframe tbody tr th:only-of-type {\n",
       "        vertical-align: middle;\n",
       "    }\n",
       "\n",
       "    .dataframe tbody tr th {\n",
       "        vertical-align: top;\n",
       "    }\n",
       "\n",
       "    .dataframe thead th {\n",
       "        text-align: right;\n",
       "    }\n",
       "</style>\n",
       "<table border=\"1\" class=\"dataframe\">\n",
       "  <thead>\n",
       "    <tr style=\"text-align: right;\">\n",
       "      <th></th>\n",
       "      <th>UserID</th>\n",
       "      <th>MovieID</th>\n",
       "      <th>Rating</th>\n",
       "      <th>history</th>\n",
       "      <th>candidate</th>\n",
       "      <th>timestamp</th>\n",
       "    </tr>\n",
       "  </thead>\n",
       "  <tbody>\n",
       "    <tr>\n",
       "      <th>0</th>\n",
       "      <td>3022</td>\n",
       "      <td>3578</td>\n",
       "      <td>4</td>\n",
       "      <td>[[198, Strange Days, [Action, Crime, Sci-Fi], ...</td>\n",
       "      <td>[3578, Gladiator, [Action, Drama], M, 25, 17, ...</td>\n",
       "      <td>970507113</td>\n",
       "    </tr>\n",
       "    <tr>\n",
       "      <th>1</th>\n",
       "      <td>3112</td>\n",
       "      <td>1099</td>\n",
       "      <td>3</td>\n",
       "      <td>[[2422, Karate Kid III, The, [Action, Adventur...</td>\n",
       "      <td>[1099, Christmas Carol, A, [Drama], M, 18, 12,...</td>\n",
       "      <td>969476859</td>\n",
       "    </tr>\n",
       "    <tr>\n",
       "      <th>2</th>\n",
       "      <td>1680</td>\n",
       "      <td>2597</td>\n",
       "      <td>2</td>\n",
       "      <td>[[2048, Great Mouse Detective, The, [Animation...</td>\n",
       "      <td>[2597, Lost &amp; Found, [Comedy, Romance], M, 25,...</td>\n",
       "      <td>974836897</td>\n",
       "    </tr>\n",
       "    <tr>\n",
       "      <th>3</th>\n",
       "      <td>3705</td>\n",
       "      <td>3089</td>\n",
       "      <td>4</td>\n",
       "      <td>[[3015, Coma, [Thriller], M, 45, 7, 30076, 197...</td>\n",
       "      <td>[3089, Bicycle Thief, The (Ladri di biciclette...</td>\n",
       "      <td>966281485</td>\n",
       "    </tr>\n",
       "    <tr>\n",
       "      <th>4</th>\n",
       "      <td>1845</td>\n",
       "      <td>852</td>\n",
       "      <td>3</td>\n",
       "      <td>[[1198, Raiders of the Lost Ark, [Action, Adve...</td>\n",
       "      <td>[852, Tin Cup, [Comedy, Romance], M, 25, 2, 10...</td>\n",
       "      <td>974708054</td>\n",
       "    </tr>\n",
       "  </tbody>\n",
       "</table>\n",
       "</div>"
      ],
      "text/plain": [
       "   UserID  MovieID  Rating                                            history  \\\n",
       "0    3022     3578       4  [[198, Strange Days, [Action, Crime, Sci-Fi], ...   \n",
       "1    3112     1099       3  [[2422, Karate Kid III, The, [Action, Adventur...   \n",
       "2    1680     2597       2  [[2048, Great Mouse Detective, The, [Animation...   \n",
       "3    3705     3089       4  [[3015, Coma, [Thriller], M, 45, 7, 30076, 197...   \n",
       "4    1845      852       3  [[1198, Raiders of the Lost Ark, [Action, Adve...   \n",
       "\n",
       "                                           candidate  timestamp  \n",
       "0  [3578, Gladiator, [Action, Drama], M, 25, 17, ...  970507113  \n",
       "1  [1099, Christmas Carol, A, [Drama], M, 18, 12,...  969476859  \n",
       "2  [2597, Lost & Found, [Comedy, Romance], M, 25,...  974836897  \n",
       "3  [3089, Bicycle Thief, The (Ladri di biciclette...  966281485  \n",
       "4  [852, Tin Cup, [Comedy, Romance], M, 25, 2, 10...  974708054  "
      ]
     },
     "execution_count": 461,
     "metadata": {},
     "output_type": "execute_result"
    }
   ],
   "source": [
    "train.head()"
   ]
  },
  {
   "cell_type": "code",
   "execution_count": 462,
   "metadata": {},
   "outputs": [
    {
     "ename": "KeyError",
     "evalue": "\"['Genre'] not in index\"",
     "output_type": "error",
     "traceback": [
      "\u001b[0;31m---------------------------------------------------------------------------\u001b[0m",
      "\u001b[0;31mKeyError\u001b[0m                                  Traceback (most recent call last)",
      "\u001b[1;32m/Users/matfu21/Desktop/mmp/GraphSASRec/code/baselines.ipynb Cell 6\u001b[0m line \u001b[0;36m1\n\u001b[0;32m----> <a href='vscode-notebook-cell:/Users/matfu21/Desktop/mmp/GraphSASRec/code/baselines.ipynb#Y116sZmlsZQ%3D%3D?line=0'>1</a>\u001b[0m train_light \u001b[39m=\u001b[39m train[[\u001b[39m'\u001b[39;49m\u001b[39mMovieID\u001b[39;49m\u001b[39m'\u001b[39;49m, \u001b[39m'\u001b[39;49m\u001b[39mUserID\u001b[39;49m\u001b[39m'\u001b[39;49m, \u001b[39m'\u001b[39;49m\u001b[39mRating\u001b[39;49m\u001b[39m'\u001b[39;49m, \u001b[39m'\u001b[39;49m\u001b[39mGenre\u001b[39;49m\u001b[39m'\u001b[39;49m]]\n\u001b[1;32m      <a href='vscode-notebook-cell:/Users/matfu21/Desktop/mmp/GraphSASRec/code/baselines.ipynb#Y116sZmlsZQ%3D%3D?line=1'>2</a>\u001b[0m val_light \u001b[39m=\u001b[39m val[[\u001b[39m'\u001b[39m\u001b[39mMovieID\u001b[39m\u001b[39m'\u001b[39m, \u001b[39m'\u001b[39m\u001b[39mUserID\u001b[39m\u001b[39m'\u001b[39m, \u001b[39m'\u001b[39m\u001b[39mRating\u001b[39m\u001b[39m'\u001b[39m, \u001b[39m'\u001b[39m\u001b[39mGenre\u001b[39m\u001b[39m'\u001b[39m]]\n\u001b[1;32m      <a href='vscode-notebook-cell:/Users/matfu21/Desktop/mmp/GraphSASRec/code/baselines.ipynb#Y116sZmlsZQ%3D%3D?line=2'>3</a>\u001b[0m train_light\u001b[39m.\u001b[39mhead()\n",
      "File \u001b[0;32m~/miniconda3/lib/python3.11/site-packages/pandas/core/frame.py:3767\u001b[0m, in \u001b[0;36mDataFrame.__getitem__\u001b[0;34m(self, key)\u001b[0m\n\u001b[1;32m   3765\u001b[0m     \u001b[39mif\u001b[39;00m is_iterator(key):\n\u001b[1;32m   3766\u001b[0m         key \u001b[39m=\u001b[39m \u001b[39mlist\u001b[39m(key)\n\u001b[0;32m-> 3767\u001b[0m     indexer \u001b[39m=\u001b[39m \u001b[39mself\u001b[39;49m\u001b[39m.\u001b[39;49mcolumns\u001b[39m.\u001b[39;49m_get_indexer_strict(key, \u001b[39m\"\u001b[39;49m\u001b[39mcolumns\u001b[39;49m\u001b[39m\"\u001b[39;49m)[\u001b[39m1\u001b[39m]\n\u001b[1;32m   3769\u001b[0m \u001b[39m# take() does not accept boolean indexers\u001b[39;00m\n\u001b[1;32m   3770\u001b[0m \u001b[39mif\u001b[39;00m \u001b[39mgetattr\u001b[39m(indexer, \u001b[39m\"\u001b[39m\u001b[39mdtype\u001b[39m\u001b[39m\"\u001b[39m, \u001b[39mNone\u001b[39;00m) \u001b[39m==\u001b[39m \u001b[39mbool\u001b[39m:\n",
      "File \u001b[0;32m~/miniconda3/lib/python3.11/site-packages/pandas/core/indexes/base.py:5877\u001b[0m, in \u001b[0;36mIndex._get_indexer_strict\u001b[0;34m(self, key, axis_name)\u001b[0m\n\u001b[1;32m   5874\u001b[0m \u001b[39melse\u001b[39;00m:\n\u001b[1;32m   5875\u001b[0m     keyarr, indexer, new_indexer \u001b[39m=\u001b[39m \u001b[39mself\u001b[39m\u001b[39m.\u001b[39m_reindex_non_unique(keyarr)\n\u001b[0;32m-> 5877\u001b[0m \u001b[39mself\u001b[39;49m\u001b[39m.\u001b[39;49m_raise_if_missing(keyarr, indexer, axis_name)\n\u001b[1;32m   5879\u001b[0m keyarr \u001b[39m=\u001b[39m \u001b[39mself\u001b[39m\u001b[39m.\u001b[39mtake(indexer)\n\u001b[1;32m   5880\u001b[0m \u001b[39mif\u001b[39;00m \u001b[39misinstance\u001b[39m(key, Index):\n\u001b[1;32m   5881\u001b[0m     \u001b[39m# GH 42790 - Preserve name from an Index\u001b[39;00m\n",
      "File \u001b[0;32m~/miniconda3/lib/python3.11/site-packages/pandas/core/indexes/base.py:5941\u001b[0m, in \u001b[0;36mIndex._raise_if_missing\u001b[0;34m(self, key, indexer, axis_name)\u001b[0m\n\u001b[1;32m   5938\u001b[0m     \u001b[39mraise\u001b[39;00m \u001b[39mKeyError\u001b[39;00m(\u001b[39mf\u001b[39m\u001b[39m\"\u001b[39m\u001b[39mNone of [\u001b[39m\u001b[39m{\u001b[39;00mkey\u001b[39m}\u001b[39;00m\u001b[39m] are in the [\u001b[39m\u001b[39m{\u001b[39;00maxis_name\u001b[39m}\u001b[39;00m\u001b[39m]\u001b[39m\u001b[39m\"\u001b[39m)\n\u001b[1;32m   5940\u001b[0m not_found \u001b[39m=\u001b[39m \u001b[39mlist\u001b[39m(ensure_index(key)[missing_mask\u001b[39m.\u001b[39mnonzero()[\u001b[39m0\u001b[39m]]\u001b[39m.\u001b[39munique())\n\u001b[0;32m-> 5941\u001b[0m \u001b[39mraise\u001b[39;00m \u001b[39mKeyError\u001b[39;00m(\u001b[39mf\u001b[39m\u001b[39m\"\u001b[39m\u001b[39m{\u001b[39;00mnot_found\u001b[39m}\u001b[39;00m\u001b[39m not in index\u001b[39m\u001b[39m\"\u001b[39m)\n",
      "\u001b[0;31mKeyError\u001b[0m: \"['Genre'] not in index\""
     ]
    }
   ],
   "source": [
    "train_light = train[['MovieID', 'UserID', 'Rating', 'Genre']]\n",
    "val_light = val[['MovieID', 'UserID', 'Rating', 'Genre']]\n",
    "train_light.head()"
   ]
  },
  {
   "cell_type": "code",
   "execution_count": null,
   "metadata": {},
   "outputs": [],
   "source": [
    "from surprise import Dataset, Reader"
   ]
  },
  {
   "cell_type": "code",
   "execution_count": null,
   "metadata": {},
   "outputs": [
    {
     "name": "stdout",
     "output_type": "stream",
     "text": [
      "21282657\n"
     ]
    }
   ],
   "source": [
    "reader = Reader(rating_scale=(1, 5))\n",
    "train_surprise = Dataset.load_from_df(train_light[['UserID', 'MovieID', 'Rating']], reader).build_full_trainset()\n",
    "val_surprise = Dataset.load_from_df(val_light[['UserID', 'MovieID', 'Rating']], reader)\n",
    "testset_surprise = train_surprise.build_anti_testset()\n",
    "print(len(testset_surprise))"
   ]
  },
  {
   "cell_type": "markdown",
   "metadata": {},
   "source": [
    "## 2. Обучение и тестирование бейзлайнов\n",
    "В качестве бейзлайнов возьмем:\n",
    "- Top-K самых популярных товаров с обучения\n",
    "- KNNBasic из surprise library\n",
    "- SVD из surprise library\n",
    "\n",
    "Будем считать следующие user-wise метрики:\n",
    "- User-wise recall@50.\n",
    "- User-wise diversity@50 (среднее количество различных жанров среди первых 50 кандидатов).\n",
    "- User-wise median count@50: для каждого пользователя считаем медианную популярность (по числу покупок на обучении), а дальше усредняем по всем пользователям. <- для замера влияния на long-tail."
   ]
  },
  {
   "cell_type": "markdown",
   "metadata": {},
   "source": [
    "### Вспомогательный код для подсчета метрик"
   ]
  },
  {
   "cell_type": "code",
   "execution_count": 363,
   "metadata": {},
   "outputs": [
    {
     "data": {
      "text/html": [
       "<div>\n",
       "<style scoped>\n",
       "    .dataframe tbody tr th:only-of-type {\n",
       "        vertical-align: middle;\n",
       "    }\n",
       "\n",
       "    .dataframe tbody tr th {\n",
       "        vertical-align: top;\n",
       "    }\n",
       "\n",
       "    .dataframe thead th {\n",
       "        text-align: right;\n",
       "    }\n",
       "</style>\n",
       "<table border=\"1\" class=\"dataframe\">\n",
       "  <thead>\n",
       "    <tr style=\"text-align: right;\">\n",
       "      <th></th>\n",
       "      <th>UserID</th>\n",
       "      <th>positive</th>\n",
       "    </tr>\n",
       "  </thead>\n",
       "  <tbody>\n",
       "    <tr>\n",
       "      <th>0</th>\n",
       "      <td>19</td>\n",
       "      <td>[1655, 2990, 1193, 1262, 2918, 2600, 2004, 265...</td>\n",
       "    </tr>\n",
       "    <tr>\n",
       "      <th>1</th>\n",
       "      <td>20</td>\n",
       "      <td>[1371, 3527, 1240, 1527, 3753, 1468, 2858, 169...</td>\n",
       "    </tr>\n",
       "    <tr>\n",
       "      <th>2</th>\n",
       "      <td>22</td>\n",
       "      <td>[1034, 65, 1097, 3527, 2161, 2376, 2193, 678, ...</td>\n",
       "    </tr>\n",
       "    <tr>\n",
       "      <th>3</th>\n",
       "      <td>23</td>\n",
       "      <td>[2973, 1388, 3740, 915, 1222, 2411, 3396, 2410...</td>\n",
       "    </tr>\n",
       "    <tr>\n",
       "      <th>4</th>\n",
       "      <td>24</td>\n",
       "      <td>[1959, 2657, 425, 2757, 1635]</td>\n",
       "    </tr>\n",
       "  </tbody>\n",
       "</table>\n",
       "</div>"
      ],
      "text/plain": [
       "   UserID                                           positive\n",
       "0      19  [1655, 2990, 1193, 1262, 2918, 2600, 2004, 265...\n",
       "1      20  [1371, 3527, 1240, 1527, 3753, 1468, 2858, 169...\n",
       "2      22  [1034, 65, 1097, 3527, 2161, 2376, 2193, 678, ...\n",
       "3      23  [2973, 1388, 3740, 915, 1222, 2411, 3396, 2410...\n",
       "4      24                      [1959, 2657, 425, 2757, 1635]"
      ]
     },
     "execution_count": 363,
     "metadata": {},
     "output_type": "execute_result"
    }
   ],
   "source": [
    "positive_pairs = val_light.groupby('UserID').apply(lambda x: [it for it in x['MovieID']]).reset_index()\n",
    "positive_pairs['positive'] = positive_pairs[0]\n",
    "positive_pairs = positive_pairs[['UserID', 'positive']]\n",
    "users = positive_pairs.UserID.values"
   ]
  },
  {
   "cell_type": "code",
   "execution_count": 451,
   "metadata": {},
   "outputs": [],
   "source": [
    "metric_recall50 = RecallK(50)\n",
    "metric_diversity50 = DiversityK(50)\n",
    "metric_long_tail50 = LongTailK(50)"
   ]
  },
  {
   "cell_type": "markdown",
   "metadata": {},
   "source": [
    "### Top-K"
   ]
  },
  {
   "cell_type": "code",
   "execution_count": 365,
   "metadata": {},
   "outputs": [],
   "source": [
    "top50_popular = train_light.groupby('MovieID')['UserID'].count().sort_values().values[-50:]"
   ]
  },
  {
   "cell_type": "code",
   "execution_count": 366,
   "metadata": {},
   "outputs": [
    {
     "data": {
      "text/html": [
       "<div>\n",
       "<style scoped>\n",
       "    .dataframe tbody tr th:only-of-type {\n",
       "        vertical-align: middle;\n",
       "    }\n",
       "\n",
       "    .dataframe tbody tr th {\n",
       "        vertical-align: top;\n",
       "    }\n",
       "\n",
       "    .dataframe thead th {\n",
       "        text-align: right;\n",
       "    }\n",
       "</style>\n",
       "<table border=\"1\" class=\"dataframe\">\n",
       "  <thead>\n",
       "    <tr style=\"text-align: right;\">\n",
       "      <th></th>\n",
       "      <th>UserID</th>\n",
       "      <th>preds</th>\n",
       "    </tr>\n",
       "  </thead>\n",
       "  <tbody>\n",
       "    <tr>\n",
       "      <th>0</th>\n",
       "      <td>19</td>\n",
       "      <td>[1571, 1578, 1588, 1600, 1610, 1611, 1624, 163...</td>\n",
       "    </tr>\n",
       "    <tr>\n",
       "      <th>1</th>\n",
       "      <td>20</td>\n",
       "      <td>[1571, 1578, 1588, 1600, 1610, 1611, 1624, 163...</td>\n",
       "    </tr>\n",
       "    <tr>\n",
       "      <th>2</th>\n",
       "      <td>22</td>\n",
       "      <td>[1571, 1578, 1588, 1600, 1610, 1611, 1624, 163...</td>\n",
       "    </tr>\n",
       "    <tr>\n",
       "      <th>3</th>\n",
       "      <td>23</td>\n",
       "      <td>[1571, 1578, 1588, 1600, 1610, 1611, 1624, 163...</td>\n",
       "    </tr>\n",
       "    <tr>\n",
       "      <th>4</th>\n",
       "      <td>24</td>\n",
       "      <td>[1571, 1578, 1588, 1600, 1610, 1611, 1624, 163...</td>\n",
       "    </tr>\n",
       "  </tbody>\n",
       "</table>\n",
       "</div>"
      ],
      "text/plain": [
       "   UserID                                              preds\n",
       "0      19  [1571, 1578, 1588, 1600, 1610, 1611, 1624, 163...\n",
       "1      20  [1571, 1578, 1588, 1600, 1610, 1611, 1624, 163...\n",
       "2      22  [1571, 1578, 1588, 1600, 1610, 1611, 1624, 163...\n",
       "3      23  [1571, 1578, 1588, 1600, 1610, 1611, 1624, 163...\n",
       "4      24  [1571, 1578, 1588, 1600, 1610, 1611, 1624, 163..."
      ]
     },
     "execution_count": 366,
     "metadata": {},
     "output_type": "execute_result"
    }
   ],
   "source": [
    "preds = []\n",
    "for user in users:\n",
    "    preds.append(top50_popular)\n",
    "df_preds = pd.DataFrame({'UserID': users, 'preds': preds})\n",
    "df_preds.head()"
   ]
  },
  {
   "cell_type": "code",
   "execution_count": 367,
   "metadata": {},
   "outputs": [
    {
     "data": {
      "text/html": [
       "<div>\n",
       "<style scoped>\n",
       "    .dataframe tbody tr th:only-of-type {\n",
       "        vertical-align: middle;\n",
       "    }\n",
       "\n",
       "    .dataframe tbody tr th {\n",
       "        vertical-align: top;\n",
       "    }\n",
       "\n",
       "    .dataframe thead th {\n",
       "        text-align: right;\n",
       "    }\n",
       "</style>\n",
       "<table border=\"1\" class=\"dataframe\">\n",
       "  <thead>\n",
       "    <tr style=\"text-align: right;\">\n",
       "      <th></th>\n",
       "      <th>UserID</th>\n",
       "      <th>preds</th>\n",
       "      <th>positive</th>\n",
       "    </tr>\n",
       "  </thead>\n",
       "  <tbody>\n",
       "    <tr>\n",
       "      <th>0</th>\n",
       "      <td>19</td>\n",
       "      <td>[1571, 1578, 1588, 1600, 1610, 1611, 1624, 163...</td>\n",
       "      <td>[1655, 2990, 1193, 1262, 2918, 2600, 2004, 265...</td>\n",
       "    </tr>\n",
       "    <tr>\n",
       "      <th>1</th>\n",
       "      <td>20</td>\n",
       "      <td>[1571, 1578, 1588, 1600, 1610, 1611, 1624, 163...</td>\n",
       "      <td>[1371, 3527, 1240, 1527, 3753, 1468, 2858, 169...</td>\n",
       "    </tr>\n",
       "    <tr>\n",
       "      <th>2</th>\n",
       "      <td>22</td>\n",
       "      <td>[1571, 1578, 1588, 1600, 1610, 1611, 1624, 163...</td>\n",
       "      <td>[1034, 65, 1097, 3527, 2161, 2376, 2193, 678, ...</td>\n",
       "    </tr>\n",
       "    <tr>\n",
       "      <th>3</th>\n",
       "      <td>23</td>\n",
       "      <td>[1571, 1578, 1588, 1600, 1610, 1611, 1624, 163...</td>\n",
       "      <td>[2973, 1388, 3740, 915, 1222, 2411, 3396, 2410...</td>\n",
       "    </tr>\n",
       "    <tr>\n",
       "      <th>4</th>\n",
       "      <td>24</td>\n",
       "      <td>[1571, 1578, 1588, 1600, 1610, 1611, 1624, 163...</td>\n",
       "      <td>[1959, 2657, 425, 2757, 1635]</td>\n",
       "    </tr>\n",
       "  </tbody>\n",
       "</table>\n",
       "</div>"
      ],
      "text/plain": [
       "   UserID                                              preds  \\\n",
       "0      19  [1571, 1578, 1588, 1600, 1610, 1611, 1624, 163...   \n",
       "1      20  [1571, 1578, 1588, 1600, 1610, 1611, 1624, 163...   \n",
       "2      22  [1571, 1578, 1588, 1600, 1610, 1611, 1624, 163...   \n",
       "3      23  [1571, 1578, 1588, 1600, 1610, 1611, 1624, 163...   \n",
       "4      24  [1571, 1578, 1588, 1600, 1610, 1611, 1624, 163...   \n",
       "\n",
       "                                            positive  \n",
       "0  [1655, 2990, 1193, 1262, 2918, 2600, 2004, 265...  \n",
       "1  [1371, 3527, 1240, 1527, 3753, 1468, 2858, 169...  \n",
       "2  [1034, 65, 1097, 3527, 2161, 2376, 2193, 678, ...  \n",
       "3  [2973, 1388, 3740, 915, 1222, 2411, 3396, 2410...  \n",
       "4                      [1959, 2657, 425, 2757, 1635]  "
      ]
     },
     "execution_count": 367,
     "metadata": {},
     "output_type": "execute_result"
    }
   ],
   "source": [
    "df_preds = df_preds.set_index('UserID').join(positive_pairs.set_index('UserID'), how='left', on='UserID').reset_index()\n",
    "df_preds.head()"
   ]
  },
  {
   "cell_type": "code",
   "execution_count": 368,
   "metadata": {},
   "outputs": [
    {
     "name": "stdout",
     "output_type": "stream",
     "text": [
      "Recall@50 for top-k most popular: 3.1 %\n"
     ]
    }
   ],
   "source": [
    "print('User-wise recall@50 for top-k most popular:', round(metric_recall50(df_preds) * 100, 2), '%')"
   ]
  },
  {
   "cell_type": "markdown",
   "metadata": {},
   "source": [
    "### KNNBasic"
   ]
  },
  {
   "cell_type": "code",
   "execution_count": null,
   "metadata": {},
   "outputs": [],
   "source": [
    "def get_top_50(events):\n",
    "    tmp = []\n",
    "    for movie, rating in zip(events['MovieID'], events['Rating']):\n",
    "        tmp.append((movie, rating))\n",
    "    tmp.sort(key=lambda x: x[1])\n",
    "    return [it[0] for it in tmp[-50:]]\n",
    "\n",
    "def build_preds_datafrmae(predictions):\n",
    "    tmp_u = []\n",
    "    tmp_i = []\n",
    "    tmp_r = []\n",
    "    for pred in predictions:\n",
    "        tmp_u.append(pred[0])\n",
    "        tmp_i.append(pred[1])\n",
    "        tmp_r.append(pred[3])\n",
    "    tmp = pd.DataFrame({'UserID': tmp_u, 'MovieID': tmp_i, 'Rating': tmp_r})\n",
    "    tmp = tmp.groupby('UserID').apply(get_top_50).reset_index()\n",
    "    tmp['preds'] = tmp[0]\n",
    "    tmp = tmp[['UserID', 'preds']]\n",
    "    df_preds = positive_pairs.copy()\n",
    "    df_preds = df_preds.set_index('UserID').join(tmp.set_index('UserID'), how='left', on='UserID').reset_index()\n",
    "    return df_preds"
   ]
  },
  {
   "cell_type": "code",
   "execution_count": 453,
   "metadata": {},
   "outputs": [],
   "source": [
    "from surprise import KNNBasic"
   ]
  },
  {
   "cell_type": "code",
   "execution_count": 455,
   "metadata": {},
   "outputs": [
    {
     "name": "stdout",
     "output_type": "stream",
     "text": [
      "Computing the msd similarity matrix...\n",
      "Done computing similarity matrix.\n"
     ]
    },
    {
     "ename": "KeyboardInterrupt",
     "evalue": "",
     "output_type": "error",
     "traceback": [
      "\u001b[0;31m---------------------------------------------------------------------------\u001b[0m",
      "\u001b[0;31mKeyboardInterrupt\u001b[0m                         Traceback (most recent call last)",
      "\u001b[1;32m/Users/matfu21/Desktop/mmp/GraphSASRec/code/baselines.ipynb Cell 20\u001b[0m line \u001b[0;36m3\n\u001b[1;32m      <a href='vscode-notebook-cell:/Users/matfu21/Desktop/mmp/GraphSASRec/code/baselines.ipynb#Y133sZmlsZQ%3D%3D?line=0'>1</a>\u001b[0m knn \u001b[39m=\u001b[39m KNNBasic()\n\u001b[1;32m      <a href='vscode-notebook-cell:/Users/matfu21/Desktop/mmp/GraphSASRec/code/baselines.ipynb#Y133sZmlsZQ%3D%3D?line=1'>2</a>\u001b[0m knn\u001b[39m.\u001b[39mfit(train_surprise)\n\u001b[0;32m----> <a href='vscode-notebook-cell:/Users/matfu21/Desktop/mmp/GraphSASRec/code/baselines.ipynb#Y133sZmlsZQ%3D%3D?line=2'>3</a>\u001b[0m predictions_knnbasic \u001b[39m=\u001b[39m knn\u001b[39m.\u001b[39;49mtest(testset_surprise)\n",
      "File \u001b[0;32m~/miniconda3/lib/python3.11/site-packages/surprise/prediction_algorithms/algo_base.py:160\u001b[0m, in \u001b[0;36mAlgoBase.test\u001b[0;34m(self, testset, verbose)\u001b[0m\n\u001b[1;32m    142\u001b[0m \u001b[39m\u001b[39m\u001b[39m\"\"\"Test the algorithm on given testset, i.e. estimate all the ratings\u001b[39;00m\n\u001b[1;32m    143\u001b[0m \u001b[39min the given testset.\u001b[39;00m\n\u001b[1;32m    144\u001b[0m \n\u001b[0;32m   (...)\u001b[0m\n\u001b[1;32m    156\u001b[0m \u001b[39m    that contains all the estimated ratings.\u001b[39;00m\n\u001b[1;32m    157\u001b[0m \u001b[39m\"\"\"\u001b[39;00m\n\u001b[1;32m    159\u001b[0m \u001b[39m# The ratings are translated back to their original scale.\u001b[39;00m\n\u001b[0;32m--> 160\u001b[0m predictions \u001b[39m=\u001b[39m [\n\u001b[1;32m    161\u001b[0m     \u001b[39mself\u001b[39;49m\u001b[39m.\u001b[39;49mpredict(uid, iid, r_ui_trans, verbose\u001b[39m=\u001b[39;49mverbose)\n\u001b[1;32m    162\u001b[0m     \u001b[39mfor\u001b[39;49;00m (uid, iid, r_ui_trans) \u001b[39min\u001b[39;49;00m testset\n\u001b[1;32m    163\u001b[0m ]\n\u001b[1;32m    164\u001b[0m \u001b[39mreturn\u001b[39;00m predictions\n",
      "File \u001b[0;32m~/miniconda3/lib/python3.11/site-packages/surprise/prediction_algorithms/algo_base.py:161\u001b[0m, in \u001b[0;36m<listcomp>\u001b[0;34m(.0)\u001b[0m\n\u001b[1;32m    142\u001b[0m \u001b[39m\u001b[39m\u001b[39m\"\"\"Test the algorithm on given testset, i.e. estimate all the ratings\u001b[39;00m\n\u001b[1;32m    143\u001b[0m \u001b[39min the given testset.\u001b[39;00m\n\u001b[1;32m    144\u001b[0m \n\u001b[0;32m   (...)\u001b[0m\n\u001b[1;32m    156\u001b[0m \u001b[39m    that contains all the estimated ratings.\u001b[39;00m\n\u001b[1;32m    157\u001b[0m \u001b[39m\"\"\"\u001b[39;00m\n\u001b[1;32m    159\u001b[0m \u001b[39m# The ratings are translated back to their original scale.\u001b[39;00m\n\u001b[1;32m    160\u001b[0m predictions \u001b[39m=\u001b[39m [\n\u001b[0;32m--> 161\u001b[0m     \u001b[39mself\u001b[39;49m\u001b[39m.\u001b[39;49mpredict(uid, iid, r_ui_trans, verbose\u001b[39m=\u001b[39;49mverbose)\n\u001b[1;32m    162\u001b[0m     \u001b[39mfor\u001b[39;00m (uid, iid, r_ui_trans) \u001b[39min\u001b[39;00m testset\n\u001b[1;32m    163\u001b[0m ]\n\u001b[1;32m    164\u001b[0m \u001b[39mreturn\u001b[39;00m predictions\n",
      "File \u001b[0;32m~/miniconda3/lib/python3.11/site-packages/surprise/prediction_algorithms/algo_base.py:102\u001b[0m, in \u001b[0;36mAlgoBase.predict\u001b[0;34m(self, uid, iid, r_ui, clip, verbose)\u001b[0m\n\u001b[1;32m    100\u001b[0m details \u001b[39m=\u001b[39m {}\n\u001b[1;32m    101\u001b[0m \u001b[39mtry\u001b[39;00m:\n\u001b[0;32m--> 102\u001b[0m     est \u001b[39m=\u001b[39m \u001b[39mself\u001b[39;49m\u001b[39m.\u001b[39;49mestimate(iuid, iiid)\n\u001b[1;32m    104\u001b[0m     \u001b[39m# If the details dict was also returned\u001b[39;00m\n\u001b[1;32m    105\u001b[0m     \u001b[39mif\u001b[39;00m \u001b[39misinstance\u001b[39m(est, \u001b[39mtuple\u001b[39m):\n",
      "File \u001b[0;32m~/miniconda3/lib/python3.11/site-packages/surprise/prediction_algorithms/knns.py:110\u001b[0m, in \u001b[0;36mKNNBasic.estimate\u001b[0;34m(self, u, i)\u001b[0m\n\u001b[1;32m    107\u001b[0m x, y \u001b[39m=\u001b[39m \u001b[39mself\u001b[39m\u001b[39m.\u001b[39mswitch(u, i)\n\u001b[1;32m    109\u001b[0m neighbors \u001b[39m=\u001b[39m [(\u001b[39mself\u001b[39m\u001b[39m.\u001b[39msim[x, x2], r) \u001b[39mfor\u001b[39;00m (x2, r) \u001b[39min\u001b[39;00m \u001b[39mself\u001b[39m\u001b[39m.\u001b[39myr[y]]\n\u001b[0;32m--> 110\u001b[0m k_neighbors \u001b[39m=\u001b[39m heapq\u001b[39m.\u001b[39;49mnlargest(\u001b[39mself\u001b[39;49m\u001b[39m.\u001b[39;49mk, neighbors, key\u001b[39m=\u001b[39;49m\u001b[39mlambda\u001b[39;49;00m t: t[\u001b[39m0\u001b[39;49m])\n\u001b[1;32m    112\u001b[0m \u001b[39m# compute weighted average\u001b[39;00m\n\u001b[1;32m    113\u001b[0m sum_sim \u001b[39m=\u001b[39m sum_ratings \u001b[39m=\u001b[39m actual_k \u001b[39m=\u001b[39m \u001b[39m0\u001b[39m\n",
      "File \u001b[0;32m~/miniconda3/lib/python3.11/heapq.py:575\u001b[0m, in \u001b[0;36mnlargest\u001b[0;34m(n, iterable, key)\u001b[0m\n\u001b[1;32m    573\u001b[0m k \u001b[39m=\u001b[39m key(elem)\n\u001b[1;32m    574\u001b[0m \u001b[39mif\u001b[39;00m top \u001b[39m<\u001b[39m k:\n\u001b[0;32m--> 575\u001b[0m     _heapreplace(result, (k, order, elem))\n\u001b[1;32m    576\u001b[0m     top, _order, _elem \u001b[39m=\u001b[39m result[\u001b[39m0\u001b[39m]\n\u001b[1;32m    577\u001b[0m     order \u001b[39m-\u001b[39m\u001b[39m=\u001b[39m \u001b[39m1\u001b[39m\n",
      "\u001b[0;31mKeyboardInterrupt\u001b[0m: "
     ]
    }
   ],
   "source": [
    "knn = KNNBasic(k=10)\n",
    "knn.fit(train_surprise)\n",
    "predictions_knnbasic = knn.test(testset_surprise)"
   ]
  },
  {
   "cell_type": "markdown",
   "metadata": {},
   "source": [
    "### SVD"
   ]
  },
  {
   "cell_type": "code",
   "execution_count": 369,
   "metadata": {},
   "outputs": [],
   "source": [
    "from surprise import SVD"
   ]
  },
  {
   "cell_type": "code",
   "execution_count": 371,
   "metadata": {},
   "outputs": [
    {
     "data": {
      "text/plain": [
       "<surprise.prediction_algorithms.matrix_factorization.SVD at 0x2f2e29ad0>"
      ]
     },
     "execution_count": 371,
     "metadata": {},
     "output_type": "execute_result"
    }
   ],
   "source": [
    "svd = SVD()\n",
    "svd.fit(train_surprise)\n",
    "predictions_svd = svd.test(testset_surprise)\n"
   ]
  },
  {
   "cell_type": "code",
   "execution_count": 452,
   "metadata": {},
   "outputs": [
    {
     "name": "stdout",
     "output_type": "stream",
     "text": [
      "Recall@50 for SVD: 12.12 %\n"
     ]
    }
   ],
   "source": [
    "print('Recall@50 for SVD:', round(metric_recall50(df_preds) * 100, 2), '%')"
   ]
  }
 ],
 "metadata": {
  "kernelspec": {
   "display_name": "base",
   "language": "python",
   "name": "python3"
  },
  "language_info": {
   "codemirror_mode": {
    "name": "ipython",
    "version": 3
   },
   "file_extension": ".py",
   "mimetype": "text/x-python",
   "name": "python",
   "nbconvert_exporter": "python",
   "pygments_lexer": "ipython3",
   "version": "3.11.4"
  }
 },
 "nbformat": 4,
 "nbformat_minor": 2
}
