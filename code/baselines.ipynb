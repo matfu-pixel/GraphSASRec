{
 "cells": [
  {
   "cell_type": "code",
   "execution_count": 194,
   "metadata": {},
   "outputs": [
    {
     "name": "stdout",
     "output_type": "stream",
     "text": [
      "The autoreload extension is already loaded. To reload it, use:\n",
      "  %reload_ext autoreload\n"
     ]
    }
   ],
   "source": [
    "import pandas as pd\n",
    "import sys\n",
    "sys.path.append('../src/')\n",
    "from varka.ml_varka import MovieLenseVarka\n",
    "\n",
    "import matplotlib.pyplot as plt\n",
    "\n",
    "%load_ext autoreload\n",
    "%autoreload 2"
   ]
  },
  {
   "cell_type": "markdown",
   "metadata": {},
   "source": [
    "## 1. Готовим данные\n",
    "В качестве теста отщипляем последние 2 месяца."
   ]
  },
  {
   "cell_type": "code",
   "execution_count": 218,
   "metadata": {},
   "outputs": [
    {
     "ename": "KeyboardInterrupt",
     "evalue": "",
     "output_type": "error",
     "traceback": [
      "\u001b[0;31m---------------------------------------------------------------------------\u001b[0m",
      "\u001b[0;31mKeyboardInterrupt\u001b[0m                         Traceback (most recent call last)",
      "\u001b[1;32m/Users/matfu21/Desktop/mmp/GraphSASRec/code/baselines.ipynb Cell 3\u001b[0m line \u001b[0;36m2\n\u001b[1;32m      <a href='vscode-notebook-cell:/Users/matfu21/Desktop/mmp/GraphSASRec/code/baselines.ipynb#X51sZmlsZQ%3D%3D?line=0'>1</a>\u001b[0m \u001b[39m# 956703954 + 60 * 60 * 24 * 7 * 4 * 10 = 980895954\u001b[39;00m\n\u001b[0;32m----> <a href='vscode-notebook-cell:/Users/matfu21/Desktop/mmp/GraphSASRec/code/baselines.ipynb#X51sZmlsZQ%3D%3D?line=1'>2</a>\u001b[0m varka \u001b[39m=\u001b[39m MovieLenseVarka(\u001b[39m'\u001b[39;49m\u001b[39m../code/data/ml-1m/movies.dat\u001b[39;49m\u001b[39m'\u001b[39;49m, \u001b[39m'\u001b[39;49m\u001b[39m../code/data/ml-1m/users.dat\u001b[39;49m\u001b[39m'\u001b[39;49m, \u001b[39m'\u001b[39;49m\u001b[39m../code/data/ml-1m/ratings.dat\u001b[39;49m\u001b[39m'\u001b[39;49m, \n\u001b[1;32m      <a href='vscode-notebook-cell:/Users/matfu21/Desktop/mmp/GraphSASRec/code/baselines.ipynb#X51sZmlsZQ%3D%3D?line=2'>3</a>\u001b[0m                         \u001b[39m980895954\u001b[39;49m, \u001b[39m'\u001b[39;49m\u001b[39m../code/data/ml-1m/train.csv\u001b[39;49m\u001b[39m'\u001b[39;49m, \u001b[39m'\u001b[39;49m\u001b[39m../code/data/ml-1m/val.csv\u001b[39;49m\u001b[39m'\u001b[39;49m, \u001b[39m128\u001b[39;49m) \u001b[39m# 10 months to train\u001b[39;00m\n\u001b[1;32m      <a href='vscode-notebook-cell:/Users/matfu21/Desktop/mmp/GraphSASRec/code/baselines.ipynb#X51sZmlsZQ%3D%3D?line=3'>4</a>\u001b[0m varka\u001b[39m.\u001b[39mdo_varka()\n",
      "File \u001b[0;32m~/Desktop/mmp/GraphSASRec/code/../src/mylib/varka/ml_varka.py:20\u001b[0m, in \u001b[0;36mMovieLenseVarka.__init__\u001b[0;34m(self, movies_path, users_path, ratings_path, time_split, train_output_path, val_output_path, max_history_length)\u001b[0m\n\u001b[1;32m     17\u001b[0m \u001b[39mself\u001b[39m\u001b[39m.\u001b[39m_users \u001b[39m=\u001b[39m pd\u001b[39m.\u001b[39mread_table(users_path, sep\u001b[39m=\u001b[39m\u001b[39m'\u001b[39m\u001b[39m::\u001b[39m\u001b[39m'\u001b[39m, header\u001b[39m=\u001b[39m\u001b[39mNone\u001b[39;00m, names\u001b[39m=\u001b[39musers_names, encoding\u001b[39m=\u001b[39m\u001b[39m'\u001b[39m\u001b[39mlatin-1\u001b[39m\u001b[39m'\u001b[39m, engine\u001b[39m=\u001b[39m\u001b[39m'\u001b[39m\u001b[39mpython\u001b[39m\u001b[39m'\u001b[39m)\n\u001b[1;32m     19\u001b[0m ratings_names \u001b[39m=\u001b[39m [\u001b[39m'\u001b[39m\u001b[39mUserID\u001b[39m\u001b[39m'\u001b[39m, \u001b[39m'\u001b[39m\u001b[39mMovieID\u001b[39m\u001b[39m'\u001b[39m, \u001b[39m'\u001b[39m\u001b[39mRating\u001b[39m\u001b[39m'\u001b[39m, \u001b[39m'\u001b[39m\u001b[39mTimestamp\u001b[39m\u001b[39m'\u001b[39m]\n\u001b[0;32m---> 20\u001b[0m \u001b[39mself\u001b[39m\u001b[39m.\u001b[39m_ratings \u001b[39m=\u001b[39m pd\u001b[39m.\u001b[39;49mread_table(ratings_path, sep\u001b[39m=\u001b[39;49m\u001b[39m'\u001b[39;49m\u001b[39m::\u001b[39;49m\u001b[39m'\u001b[39;49m, header\u001b[39m=\u001b[39;49m\u001b[39mNone\u001b[39;49;00m, names\u001b[39m=\u001b[39;49mratings_names, encoding\u001b[39m=\u001b[39;49m\u001b[39m'\u001b[39;49m\u001b[39mlatin-1\u001b[39;49m\u001b[39m'\u001b[39;49m, engine\u001b[39m=\u001b[39;49m\u001b[39m'\u001b[39;49m\u001b[39mpython\u001b[39;49m\u001b[39m'\u001b[39;49m)\n\u001b[1;32m     22\u001b[0m movies_names \u001b[39m=\u001b[39m [\u001b[39m'\u001b[39m\u001b[39mMovieID\u001b[39m\u001b[39m'\u001b[39m, \u001b[39m'\u001b[39m\u001b[39mTitle\u001b[39m\u001b[39m'\u001b[39m, \u001b[39m'\u001b[39m\u001b[39mGenres\u001b[39m\u001b[39m'\u001b[39m]\n\u001b[1;32m     23\u001b[0m \u001b[39mself\u001b[39m\u001b[39m.\u001b[39m_movies \u001b[39m=\u001b[39m pd\u001b[39m.\u001b[39mread_table(\u001b[39m'\u001b[39m\u001b[39mdata/ml-1m/movies.dat\u001b[39m\u001b[39m'\u001b[39m, sep\u001b[39m=\u001b[39m\u001b[39m'\u001b[39m\u001b[39m::\u001b[39m\u001b[39m'\u001b[39m, header\u001b[39m=\u001b[39m\u001b[39mNone\u001b[39;00m, names\u001b[39m=\u001b[39mmovies_names, encoding\u001b[39m=\u001b[39m\u001b[39m'\u001b[39m\u001b[39mlatin-1\u001b[39m\u001b[39m'\u001b[39m, engine\u001b[39m=\u001b[39m\u001b[39m'\u001b[39m\u001b[39mpython\u001b[39m\u001b[39m'\u001b[39m)\n",
      "File \u001b[0;32m~/miniconda3/lib/python3.11/site-packages/pandas/io/parsers/readers.py:1242\u001b[0m, in \u001b[0;36mread_table\u001b[0;34m(filepath_or_buffer, sep, delimiter, header, names, index_col, usecols, dtype, engine, converters, true_values, false_values, skipinitialspace, skiprows, skipfooter, nrows, na_values, keep_default_na, na_filter, verbose, skip_blank_lines, parse_dates, infer_datetime_format, keep_date_col, date_parser, date_format, dayfirst, cache_dates, iterator, chunksize, compression, thousands, decimal, lineterminator, quotechar, quoting, doublequote, escapechar, comment, encoding, encoding_errors, dialect, on_bad_lines, delim_whitespace, low_memory, memory_map, float_precision, storage_options, dtype_backend)\u001b[0m\n\u001b[1;32m   1229\u001b[0m kwds_defaults \u001b[39m=\u001b[39m _refine_defaults_read(\n\u001b[1;32m   1230\u001b[0m     dialect,\n\u001b[1;32m   1231\u001b[0m     delimiter,\n\u001b[0;32m   (...)\u001b[0m\n\u001b[1;32m   1238\u001b[0m     dtype_backend\u001b[39m=\u001b[39mdtype_backend,\n\u001b[1;32m   1239\u001b[0m )\n\u001b[1;32m   1240\u001b[0m kwds\u001b[39m.\u001b[39mupdate(kwds_defaults)\n\u001b[0;32m-> 1242\u001b[0m \u001b[39mreturn\u001b[39;00m _read(filepath_or_buffer, kwds)\n",
      "File \u001b[0;32m~/miniconda3/lib/python3.11/site-packages/pandas/io/parsers/readers.py:583\u001b[0m, in \u001b[0;36m_read\u001b[0;34m(filepath_or_buffer, kwds)\u001b[0m\n\u001b[1;32m    580\u001b[0m     \u001b[39mreturn\u001b[39;00m parser\n\u001b[1;32m    582\u001b[0m \u001b[39mwith\u001b[39;00m parser:\n\u001b[0;32m--> 583\u001b[0m     \u001b[39mreturn\u001b[39;00m parser\u001b[39m.\u001b[39;49mread(nrows)\n",
      "File \u001b[0;32m~/miniconda3/lib/python3.11/site-packages/pandas/io/parsers/readers.py:1704\u001b[0m, in \u001b[0;36mTextFileReader.read\u001b[0;34m(self, nrows)\u001b[0m\n\u001b[1;32m   1697\u001b[0m nrows \u001b[39m=\u001b[39m validate_integer(\u001b[39m\"\u001b[39m\u001b[39mnrows\u001b[39m\u001b[39m\"\u001b[39m, nrows)\n\u001b[1;32m   1698\u001b[0m \u001b[39mtry\u001b[39;00m:\n\u001b[1;32m   1699\u001b[0m     \u001b[39m# error: \"ParserBase\" has no attribute \"read\"\u001b[39;00m\n\u001b[1;32m   1700\u001b[0m     (\n\u001b[1;32m   1701\u001b[0m         index,\n\u001b[1;32m   1702\u001b[0m         columns,\n\u001b[1;32m   1703\u001b[0m         col_dict,\n\u001b[0;32m-> 1704\u001b[0m     ) \u001b[39m=\u001b[39m \u001b[39mself\u001b[39;49m\u001b[39m.\u001b[39;49m_engine\u001b[39m.\u001b[39;49mread(  \u001b[39m# type: ignore[attr-defined]\u001b[39;49;00m\n\u001b[1;32m   1705\u001b[0m         nrows\n\u001b[1;32m   1706\u001b[0m     )\n\u001b[1;32m   1707\u001b[0m \u001b[39mexcept\u001b[39;00m \u001b[39mException\u001b[39;00m:\n\u001b[1;32m   1708\u001b[0m     \u001b[39mself\u001b[39m\u001b[39m.\u001b[39mclose()\n",
      "File \u001b[0;32m~/miniconda3/lib/python3.11/site-packages/pandas/io/parsers/python_parser.py:293\u001b[0m, in \u001b[0;36mPythonParser.read\u001b[0;34m(self, rows)\u001b[0m\n\u001b[1;32m    290\u001b[0m alldata \u001b[39m=\u001b[39m \u001b[39mself\u001b[39m\u001b[39m.\u001b[39m_rows_to_cols(content)\n\u001b[1;32m    291\u001b[0m data, columns \u001b[39m=\u001b[39m \u001b[39mself\u001b[39m\u001b[39m.\u001b[39m_exclude_implicit_index(alldata)\n\u001b[0;32m--> 293\u001b[0m conv_data \u001b[39m=\u001b[39m \u001b[39mself\u001b[39;49m\u001b[39m.\u001b[39;49m_convert_data(data)\n\u001b[1;32m    294\u001b[0m columns, conv_data \u001b[39m=\u001b[39m \u001b[39mself\u001b[39m\u001b[39m.\u001b[39m_do_date_conversions(columns, conv_data)\n\u001b[1;32m    296\u001b[0m index, result_columns \u001b[39m=\u001b[39m \u001b[39mself\u001b[39m\u001b[39m.\u001b[39m_make_index(\n\u001b[1;32m    297\u001b[0m     conv_data, alldata, columns, indexnamerow\n\u001b[1;32m    298\u001b[0m )\n",
      "File \u001b[0;32m~/miniconda3/lib/python3.11/site-packages/pandas/io/parsers/python_parser.py:364\u001b[0m, in \u001b[0;36mPythonParser._convert_data\u001b[0;34m(self, data)\u001b[0m\n\u001b[1;32m    361\u001b[0m     clean_na_values \u001b[39m=\u001b[39m \u001b[39mself\u001b[39m\u001b[39m.\u001b[39mna_values\n\u001b[1;32m    362\u001b[0m     clean_na_fvalues \u001b[39m=\u001b[39m \u001b[39mself\u001b[39m\u001b[39m.\u001b[39mna_fvalues\n\u001b[0;32m--> 364\u001b[0m \u001b[39mreturn\u001b[39;00m \u001b[39mself\u001b[39;49m\u001b[39m.\u001b[39;49m_convert_to_ndarrays(\n\u001b[1;32m    365\u001b[0m     data,\n\u001b[1;32m    366\u001b[0m     clean_na_values,\n\u001b[1;32m    367\u001b[0m     clean_na_fvalues,\n\u001b[1;32m    368\u001b[0m     \u001b[39mself\u001b[39;49m\u001b[39m.\u001b[39;49mverbose,\n\u001b[1;32m    369\u001b[0m     clean_conv,\n\u001b[1;32m    370\u001b[0m     clean_dtypes,\n\u001b[1;32m    371\u001b[0m )\n",
      "File \u001b[0;32m~/miniconda3/lib/python3.11/site-packages/pandas/io/parsers/base_parser.py:575\u001b[0m, in \u001b[0;36mParserBase._convert_to_ndarrays\u001b[0;34m(self, dct, na_values, na_fvalues, verbose, converters, dtypes)\u001b[0m\n\u001b[1;32m    572\u001b[0m try_num_bool \u001b[39m=\u001b[39m \u001b[39mnot\u001b[39;00m (cast_type \u001b[39mand\u001b[39;00m is_str_or_ea_dtype)\n\u001b[1;32m    574\u001b[0m \u001b[39m# general type inference and conversion\u001b[39;00m\n\u001b[0;32m--> 575\u001b[0m cvals, na_count \u001b[39m=\u001b[39m \u001b[39mself\u001b[39;49m\u001b[39m.\u001b[39;49m_infer_types(\n\u001b[1;32m    576\u001b[0m     values,\n\u001b[1;32m    577\u001b[0m     \u001b[39mset\u001b[39;49m(col_na_values) \u001b[39m|\u001b[39;49m col_na_fvalues,\n\u001b[1;32m    578\u001b[0m     cast_type \u001b[39mis\u001b[39;49;00m \u001b[39mNone\u001b[39;49;00m,\n\u001b[1;32m    579\u001b[0m     try_num_bool,\n\u001b[1;32m    580\u001b[0m )\n\u001b[1;32m    582\u001b[0m \u001b[39m# type specified in dtype param or cast_type is an EA\u001b[39;00m\n\u001b[1;32m    583\u001b[0m \u001b[39mif\u001b[39;00m cast_type \u001b[39mand\u001b[39;00m (\u001b[39mnot\u001b[39;00m is_dtype_equal(cvals, cast_type) \u001b[39mor\u001b[39;00m is_ea):\n",
      "File \u001b[0;32m~/miniconda3/lib/python3.11/site-packages/pandas/io/parsers/base_parser.py:704\u001b[0m, in \u001b[0;36mParserBase._infer_types\u001b[0;34m(self, values, na_values, no_dtype_specified, try_num_bool)\u001b[0m\n\u001b[1;32m    701\u001b[0m \u001b[39mif\u001b[39;00m try_num_bool \u001b[39mand\u001b[39;00m is_object_dtype(values\u001b[39m.\u001b[39mdtype):\n\u001b[1;32m    702\u001b[0m     \u001b[39m# exclude e.g DatetimeIndex here\u001b[39;00m\n\u001b[1;32m    703\u001b[0m     \u001b[39mtry\u001b[39;00m:\n\u001b[0;32m--> 704\u001b[0m         result, result_mask \u001b[39m=\u001b[39m lib\u001b[39m.\u001b[39;49mmaybe_convert_numeric(\n\u001b[1;32m    705\u001b[0m             values,\n\u001b[1;32m    706\u001b[0m             na_values,\n\u001b[1;32m    707\u001b[0m             \u001b[39mFalse\u001b[39;49;00m,\n\u001b[1;32m    708\u001b[0m             convert_to_masked_nullable\u001b[39m=\u001b[39;49mnon_default_dtype_backend,  \u001b[39m# type: ignore[arg-type]  # noqa\u001b[39;49;00m\n\u001b[1;32m    709\u001b[0m         )\n\u001b[1;32m    710\u001b[0m     \u001b[39mexcept\u001b[39;00m (\u001b[39mValueError\u001b[39;00m, \u001b[39mTypeError\u001b[39;00m):\n\u001b[1;32m    711\u001b[0m         \u001b[39m# e.g. encountering datetime string gets ValueError\u001b[39;00m\n\u001b[1;32m    712\u001b[0m         \u001b[39m#  TypeError can be raised in floatify\u001b[39;00m\n\u001b[1;32m    713\u001b[0m         na_count \u001b[39m=\u001b[39m parsers\u001b[39m.\u001b[39msanitize_objects(values, na_values)\n",
      "\u001b[0;31mKeyboardInterrupt\u001b[0m: "
     ]
    }
   ],
   "source": [
    "# 956703954 + 60 * 60 * 24 * 7 * 4 * 10 = 980895954\n",
    "varka = MovieLenseVarka('../code/data/ml-1m/movies.dat', '../code/data/ml-1m/users.dat', '../code/data/ml-1m/ratings.dat', \n",
    "                        980895954, '../code/data/ml-1m/train.csv', '../code/data/ml-1m/val.csv', 128) # 10 months to train\n",
    "varka.do_varka()"
   ]
  },
  {
   "cell_type": "code",
   "execution_count": null,
   "metadata": {},
   "outputs": [],
   "source": [
    "train = pd.read_pickle('../code/data/ml-1m/train.csv')\n",
    "val = pd.read_pickle('../code/data/ml-1m/val.csv')"
   ]
  },
  {
   "cell_type": "code",
   "execution_count": null,
   "metadata": {},
   "outputs": [
    {
     "data": {
      "text/html": [
       "<div>\n",
       "<style scoped>\n",
       "    .dataframe tbody tr th:only-of-type {\n",
       "        vertical-align: middle;\n",
       "    }\n",
       "\n",
       "    .dataframe tbody tr th {\n",
       "        vertical-align: top;\n",
       "    }\n",
       "\n",
       "    .dataframe thead th {\n",
       "        text-align: right;\n",
       "    }\n",
       "</style>\n",
       "<table border=\"1\" class=\"dataframe\">\n",
       "  <thead>\n",
       "    <tr style=\"text-align: right;\">\n",
       "      <th></th>\n",
       "      <th>index</th>\n",
       "      <th>UserID</th>\n",
       "      <th>history</th>\n",
       "      <th>candidate</th>\n",
       "      <th>timestamp</th>\n",
       "    </tr>\n",
       "  </thead>\n",
       "  <tbody>\n",
       "    <tr>\n",
       "      <th>0</th>\n",
       "      <td>790189</td>\n",
       "      <td>4756</td>\n",
       "      <td>[[74, Bed of Roses, [Drama, Romance], M, 56, 1...</td>\n",
       "      <td>[2997, Being John Malkovich, [Comedy], M, 56, ...</td>\n",
       "      <td>963170973</td>\n",
       "    </tr>\n",
       "    <tr>\n",
       "      <th>1</th>\n",
       "      <td>223764</td>\n",
       "      <td>1361</td>\n",
       "      <td>[[2065, Purple Rose of Cairo, The, [Comedy, Dr...</td>\n",
       "      <td>[2747, Little Shop of Horrors, The, [Comedy, H...</td>\n",
       "      <td>974771527</td>\n",
       "    </tr>\n",
       "    <tr>\n",
       "      <th>2</th>\n",
       "      <td>708535</td>\n",
       "      <td>4277</td>\n",
       "      <td>[[11, American President, The, [Comedy, Drama,...</td>\n",
       "      <td>[2167, Blade, [Action, Adventure, Horror], M, ...</td>\n",
       "      <td>965294303</td>\n",
       "    </tr>\n",
       "    <tr>\n",
       "      <th>3</th>\n",
       "      <td>335511</td>\n",
       "      <td>1984</td>\n",
       "      <td>[[2571, Matrix, The, [Action, Sci-Fi, Thriller...</td>\n",
       "      <td>[3181, Titus, [Drama], M, 18, 10, 92130, 1999,...</td>\n",
       "      <td>974686766</td>\n",
       "    </tr>\n",
       "    <tr>\n",
       "      <th>4</th>\n",
       "      <td>391338</td>\n",
       "      <td>2317</td>\n",
       "      <td>[[1193, One Flew Over the Cuckoo's Nest, [Dram...</td>\n",
       "      <td>[110, Braveheart, [Action, Drama, War], F, 45,...</td>\n",
       "      <td>974491477</td>\n",
       "    </tr>\n",
       "  </tbody>\n",
       "</table>\n",
       "</div>"
      ],
      "text/plain": [
       "    index  UserID                                            history  \\\n",
       "0  790189    4756  [[74, Bed of Roses, [Drama, Romance], M, 56, 1...   \n",
       "1  223764    1361  [[2065, Purple Rose of Cairo, The, [Comedy, Dr...   \n",
       "2  708535    4277  [[11, American President, The, [Comedy, Drama,...   \n",
       "3  335511    1984  [[2571, Matrix, The, [Action, Sci-Fi, Thriller...   \n",
       "4  391338    2317  [[1193, One Flew Over the Cuckoo's Nest, [Dram...   \n",
       "\n",
       "                                           candidate  timestamp  \n",
       "0  [2997, Being John Malkovich, [Comedy], M, 56, ...  963170973  \n",
       "1  [2747, Little Shop of Horrors, The, [Comedy, H...  974771527  \n",
       "2  [2167, Blade, [Action, Adventure, Horror], M, ...  965294303  \n",
       "3  [3181, Titus, [Drama], M, 18, 10, 92130, 1999,...  974686766  \n",
       "4  [110, Braveheart, [Action, Drama, War], F, 45,...  974491477  "
      ]
     },
     "execution_count": 216,
     "metadata": {},
     "output_type": "execute_result"
    }
   ],
   "source": [
    "train.head()"
   ]
  },
  {
   "cell_type": "code",
   "execution_count": null,
   "metadata": {},
   "outputs": [],
   "source": []
  },
  {
   "cell_type": "code",
   "execution_count": null,
   "metadata": {},
   "outputs": [],
   "source": []
  }
 ],
 "metadata": {
  "kernelspec": {
   "display_name": "base",
   "language": "python",
   "name": "python3"
  },
  "language_info": {
   "codemirror_mode": {
    "name": "ipython",
    "version": 3
   },
   "file_extension": ".py",
   "mimetype": "text/x-python",
   "name": "python",
   "nbconvert_exporter": "python",
   "pygments_lexer": "ipython3",
   "version": "3.11.4"
  }
 },
 "nbformat": 4,
 "nbformat_minor": 2
}
