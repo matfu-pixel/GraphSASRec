{
 "cells": [
  {
   "cell_type": "code",
   "execution_count": 5,
   "metadata": {},
   "outputs": [
    {
     "ename": "ModuleNotFoundError",
     "evalue": "No module named 'varka.ml_varka'",
     "output_type": "error",
     "traceback": [
      "\u001b[0;31m---------------------------------------------------------------------------\u001b[0m",
      "\u001b[0;31mModuleNotFoundError\u001b[0m                       Traceback (most recent call last)",
      "\u001b[1;32m/Users/matfu21/Desktop/mmp/GraphSASRec/code/baselines.ipynb Cell 1\u001b[0m line \u001b[0;36m4\n\u001b[1;32m      <a href='vscode-notebook-cell:/Users/matfu21/Desktop/mmp/GraphSASRec/code/baselines.ipynb#W0sZmlsZQ%3D%3D?line=1'>2</a>\u001b[0m \u001b[39mimport\u001b[39;00m \u001b[39msys\u001b[39;00m\n\u001b[1;32m      <a href='vscode-notebook-cell:/Users/matfu21/Desktop/mmp/GraphSASRec/code/baselines.ipynb#W0sZmlsZQ%3D%3D?line=2'>3</a>\u001b[0m sys\u001b[39m.\u001b[39mpath\u001b[39m.\u001b[39mappend(\u001b[39m'\u001b[39m\u001b[39m../src/\u001b[39m\u001b[39m'\u001b[39m)\n\u001b[0;32m----> <a href='vscode-notebook-cell:/Users/matfu21/Desktop/mmp/GraphSASRec/code/baselines.ipynb#W0sZmlsZQ%3D%3D?line=3'>4</a>\u001b[0m \u001b[39mfrom\u001b[39;00m \u001b[39mvarka\u001b[39;00m\u001b[39m.\u001b[39;00m\u001b[39mml_varka\u001b[39;00m \u001b[39mimport\u001b[39;00m MovieLenseVarka\n\u001b[1;32m      <a href='vscode-notebook-cell:/Users/matfu21/Desktop/mmp/GraphSASRec/code/baselines.ipynb#W0sZmlsZQ%3D%3D?line=4'>5</a>\u001b[0m \u001b[39mfrom\u001b[39;00m \u001b[39mutils\u001b[39;00m\u001b[39m.\u001b[39;00m\u001b[39mmetric\u001b[39;00m \u001b[39mimport\u001b[39;00m RecallK, DiversityK, LongTailK\n\u001b[1;32m      <a href='vscode-notebook-cell:/Users/matfu21/Desktop/mmp/GraphSASRec/code/baselines.ipynb#W0sZmlsZQ%3D%3D?line=6'>7</a>\u001b[0m \u001b[39mimport\u001b[39;00m \u001b[39mmatplotlib\u001b[39;00m\u001b[39m.\u001b[39;00m\u001b[39mpyplot\u001b[39;00m \u001b[39mas\u001b[39;00m \u001b[39mplt\u001b[39;00m\n",
      "\u001b[0;31mModuleNotFoundError\u001b[0m: No module named 'varka.ml_varka'"
     ]
    }
   ],
   "source": [
    "import pandas as pd\n",
    "import sys\n",
    "sys.path.append('../src/')\n",
    "from varka.ml_varka import MovieLenseVarka\n",
    "from utils.metric import RecallK, DiversityK, LongTailK\n",
    "\n",
    "import matplotlib.pyplot as plt\n",
    "\n",
    "%load_ext autoreload\n",
    "%autoreload 2"
   ]
  },
  {
   "cell_type": "markdown",
   "metadata": {},
   "source": [
    "## 1. Готовим данные\n",
    "В качестве теста отщипляем последние 2 месяца."
   ]
  },
  {
   "cell_type": "code",
   "execution_count": 467,
   "metadata": {},
   "outputs": [
    {
     "name": "stdout",
     "output_type": "stream",
     "text": [
      "number of rows in train: 916429\n",
      "number of rows in val: 77740\n"
     ]
    }
   ],
   "source": [
    "# 956703954 + 60 * 60 * 24 * 7 * 4 * 10 = 980895954\n",
    "varka = MovieLenseVarka('../code/data/ml-1m/movies.dat', '../code/data/ml-1m/users.dat', '../code/data/ml-1m/ratings.dat', \n",
    "                        980895954, '../code/data/ml-1m/train.csv', '../code/data/ml-1m/val.csv', 128) # 10 months to train\n",
    "varka.do_varka()"
   ]
  },
  {
   "cell_type": "code",
   "execution_count": 3,
   "metadata": {},
   "outputs": [],
   "source": [
    "train = pd.read_pickle('../code/data/ml-1m/train.csv')\n",
    "val = pd.read_pickle('../code/data/ml-1m/val.csv')"
   ]
  },
  {
   "cell_type": "code",
   "execution_count": 4,
   "metadata": {},
   "outputs": [
    {
     "data": {
      "text/html": [
       "<div>\n",
       "<style scoped>\n",
       "    .dataframe tbody tr th:only-of-type {\n",
       "        vertical-align: middle;\n",
       "    }\n",
       "\n",
       "    .dataframe tbody tr th {\n",
       "        vertical-align: top;\n",
       "    }\n",
       "\n",
       "    .dataframe thead th {\n",
       "        text-align: right;\n",
       "    }\n",
       "</style>\n",
       "<table border=\"1\" class=\"dataframe\">\n",
       "  <thead>\n",
       "    <tr style=\"text-align: right;\">\n",
       "      <th></th>\n",
       "      <th>UserID</th>\n",
       "      <th>MovieID</th>\n",
       "      <th>Rating</th>\n",
       "      <th>history</th>\n",
       "      <th>candidate</th>\n",
       "      <th>timestamp</th>\n",
       "      <th>Genre</th>\n",
       "    </tr>\n",
       "  </thead>\n",
       "  <tbody>\n",
       "    <tr>\n",
       "      <th>0</th>\n",
       "      <td>3403</td>\n",
       "      <td>6</td>\n",
       "      <td>4</td>\n",
       "      <td>[[413, Airheads, [Comedy], M, 35, 5, 48342, 19...</td>\n",
       "      <td>[6, Heat, [Action, Crime, Thriller], M, 35, 5,...</td>\n",
       "      <td>967429703</td>\n",
       "      <td>[Action, Crime, Thriller]</td>\n",
       "    </tr>\n",
       "    <tr>\n",
       "      <th>1</th>\n",
       "      <td>4630</td>\n",
       "      <td>1883</td>\n",
       "      <td>3</td>\n",
       "      <td>[[593, Silence of the Lambs, The, [Drama, Thri...</td>\n",
       "      <td>[1883, Bulworth, [Comedy], F, 25, 4, 94610, 19...</td>\n",
       "      <td>964040034</td>\n",
       "      <td>[Comedy]</td>\n",
       "    </tr>\n",
       "    <tr>\n",
       "      <th>2</th>\n",
       "      <td>2882</td>\n",
       "      <td>27</td>\n",
       "      <td>3</td>\n",
       "      <td>[[2683, Austin Powers: The Spy Who Shagged Me,...</td>\n",
       "      <td>[27, Now and Then, [Drama], M, 18, 20, 78759, ...</td>\n",
       "      <td>972243969</td>\n",
       "      <td>[Drama]</td>\n",
       "    </tr>\n",
       "    <tr>\n",
       "      <th>3</th>\n",
       "      <td>3513</td>\n",
       "      <td>593</td>\n",
       "      <td>5</td>\n",
       "      <td>[[908, North by Northwest, [Drama, Thriller], ...</td>\n",
       "      <td>[593, Silence of the Lambs, The, [Drama, Thril...</td>\n",
       "      <td>966976389</td>\n",
       "      <td>[Drama, Thriller]</td>\n",
       "    </tr>\n",
       "    <tr>\n",
       "      <th>4</th>\n",
       "      <td>2010</td>\n",
       "      <td>2759</td>\n",
       "      <td>2</td>\n",
       "      <td>[[2021, Dune, [Fantasy, Sci-Fi], M, 18, 4, 815...</td>\n",
       "      <td>[2759, Dick, [Comedy], M, 18, 4, 81520, 1999, ...</td>\n",
       "      <td>974680399</td>\n",
       "      <td>[Comedy]</td>\n",
       "    </tr>\n",
       "  </tbody>\n",
       "</table>\n",
       "</div>"
      ],
      "text/plain": [
       "   UserID  MovieID  Rating                                            history  \\\n",
       "0    3403        6       4  [[413, Airheads, [Comedy], M, 35, 5, 48342, 19...   \n",
       "1    4630     1883       3  [[593, Silence of the Lambs, The, [Drama, Thri...   \n",
       "2    2882       27       3  [[2683, Austin Powers: The Spy Who Shagged Me,...   \n",
       "3    3513      593       5  [[908, North by Northwest, [Drama, Thriller], ...   \n",
       "4    2010     2759       2  [[2021, Dune, [Fantasy, Sci-Fi], M, 18, 4, 815...   \n",
       "\n",
       "                                           candidate  timestamp  \\\n",
       "0  [6, Heat, [Action, Crime, Thriller], M, 35, 5,...  967429703   \n",
       "1  [1883, Bulworth, [Comedy], F, 25, 4, 94610, 19...  964040034   \n",
       "2  [27, Now and Then, [Drama], M, 18, 20, 78759, ...  972243969   \n",
       "3  [593, Silence of the Lambs, The, [Drama, Thril...  966976389   \n",
       "4  [2759, Dick, [Comedy], M, 18, 4, 81520, 1999, ...  974680399   \n",
       "\n",
       "                       Genre  \n",
       "0  [Action, Crime, Thriller]  \n",
       "1                   [Comedy]  \n",
       "2                    [Drama]  \n",
       "3          [Drama, Thriller]  \n",
       "4                   [Comedy]  "
      ]
     },
     "execution_count": 4,
     "metadata": {},
     "output_type": "execute_result"
    }
   ],
   "source": [
    "train.head()"
   ]
  },
  {
   "cell_type": "code",
   "execution_count": 4,
   "metadata": {},
   "outputs": [
    {
     "data": {
      "text/html": [
       "<div>\n",
       "<style scoped>\n",
       "    .dataframe tbody tr th:only-of-type {\n",
       "        vertical-align: middle;\n",
       "    }\n",
       "\n",
       "    .dataframe tbody tr th {\n",
       "        vertical-align: top;\n",
       "    }\n",
       "\n",
       "    .dataframe thead th {\n",
       "        text-align: right;\n",
       "    }\n",
       "</style>\n",
       "<table border=\"1\" class=\"dataframe\">\n",
       "  <thead>\n",
       "    <tr style=\"text-align: right;\">\n",
       "      <th></th>\n",
       "      <th>MovieID</th>\n",
       "      <th>UserID</th>\n",
       "      <th>Rating</th>\n",
       "      <th>Genre</th>\n",
       "    </tr>\n",
       "  </thead>\n",
       "  <tbody>\n",
       "    <tr>\n",
       "      <th>0</th>\n",
       "      <td>6</td>\n",
       "      <td>3403</td>\n",
       "      <td>4</td>\n",
       "      <td>[Action, Crime, Thriller]</td>\n",
       "    </tr>\n",
       "    <tr>\n",
       "      <th>1</th>\n",
       "      <td>1883</td>\n",
       "      <td>4630</td>\n",
       "      <td>3</td>\n",
       "      <td>[Comedy]</td>\n",
       "    </tr>\n",
       "    <tr>\n",
       "      <th>2</th>\n",
       "      <td>27</td>\n",
       "      <td>2882</td>\n",
       "      <td>3</td>\n",
       "      <td>[Drama]</td>\n",
       "    </tr>\n",
       "    <tr>\n",
       "      <th>3</th>\n",
       "      <td>593</td>\n",
       "      <td>3513</td>\n",
       "      <td>5</td>\n",
       "      <td>[Drama, Thriller]</td>\n",
       "    </tr>\n",
       "    <tr>\n",
       "      <th>4</th>\n",
       "      <td>2759</td>\n",
       "      <td>2010</td>\n",
       "      <td>2</td>\n",
       "      <td>[Comedy]</td>\n",
       "    </tr>\n",
       "  </tbody>\n",
       "</table>\n",
       "</div>"
      ],
      "text/plain": [
       "   MovieID  UserID  Rating                      Genre\n",
       "0        6    3403       4  [Action, Crime, Thriller]\n",
       "1     1883    4630       3                   [Comedy]\n",
       "2       27    2882       3                    [Drama]\n",
       "3      593    3513       5          [Drama, Thriller]\n",
       "4     2759    2010       2                   [Comedy]"
      ]
     },
     "execution_count": 4,
     "metadata": {},
     "output_type": "execute_result"
    }
   ],
   "source": [
    "train_light = train[['MovieID', 'UserID', 'Rating', 'Genre']]\n",
    "val_light = val[['MovieID', 'UserID', 'Rating', 'Genre']]\n",
    "train_light.head()"
   ]
  },
  {
   "cell_type": "code",
   "execution_count": 5,
   "metadata": {},
   "outputs": [],
   "source": [
    "from surprise import Dataset, Reader"
   ]
  },
  {
   "cell_type": "code",
   "execution_count": 6,
   "metadata": {},
   "outputs": [
    {
     "name": "stdout",
     "output_type": "stream",
     "text": [
      "21282657\n"
     ]
    }
   ],
   "source": [
    "reader = Reader(rating_scale=(1, 5))\n",
    "train_surprise = Dataset.load_from_df(train_light[['UserID', 'MovieID', 'Rating']], reader).build_full_trainset()\n",
    "val_surprise = Dataset.load_from_df(val_light[['UserID', 'MovieID', 'Rating']], reader)\n",
    "testset_surprise = train_surprise.build_anti_testset()\n",
    "print(len(testset_surprise))"
   ]
  },
  {
   "cell_type": "markdown",
   "metadata": {},
   "source": [
    "## 2. Обучение и тестирование бейзлайнов\n",
    "В качестве бейзлайнов возьмем:\n",
    "- Top-K самых популярных товаров с обучения\n",
    "- KNNBasic из surprise library\n",
    "- SVD из surprise library\n",
    "\n",
    "Будем считать следующие user-wise метрики:\n",
    "- User-wise recall@50.\n",
    "- User-wise diversity@50 (среднее количество различных жанров среди первых 50 кандидатов).\n",
    "- User-wise median count@50: для каждого пользователя считаем медианную популярность (по числу покупок на обучении), а дальше усредняем по всем пользователям. <- для замера влияния на long-tail."
   ]
  },
  {
   "cell_type": "markdown",
   "metadata": {},
   "source": [
    "### Вспомогательный код для подсчета метрик"
   ]
  },
  {
   "cell_type": "code",
   "execution_count": 7,
   "metadata": {},
   "outputs": [],
   "source": [
    "positive_pairs = val_light.groupby('UserID').apply(lambda x: [it for it in x['MovieID']]).reset_index()\n",
    "positive_pairs['positive'] = positive_pairs[0]\n",
    "positive_pairs = positive_pairs[['UserID', 'positive']]\n",
    "users = positive_pairs.UserID.values"
   ]
  },
  {
   "cell_type": "code",
   "execution_count": 53,
   "metadata": {},
   "outputs": [],
   "source": [
    "metric_recall50 = RecallK(50)\n",
    "metric_diversity50 = DiversityK(50)\n",
    "metric_long_tail50 = LongTailK(50)"
   ]
  },
  {
   "cell_type": "code",
   "execution_count": 9,
   "metadata": {},
   "outputs": [],
   "source": [
    "movie_to_cnt = dict()\n",
    "movie_to_genre = dict()\n",
    "for movieID, genre in zip(train_light['MovieID'].values, train_light['Genre'].values):\n",
    "    if movieID not in movie_to_cnt:\n",
    "        movie_to_cnt[movieID] = 1\n",
    "    else:\n",
    "        movie_to_cnt[movieID] += 1\n",
    "\n",
    "    if movieID not in movie_to_genre:\n",
    "        movie_to_genre[movieID] = genre"
   ]
  },
  {
   "cell_type": "markdown",
   "metadata": {},
   "source": [
    "### Top-K"
   ]
  },
  {
   "cell_type": "code",
   "execution_count": 10,
   "metadata": {},
   "outputs": [],
   "source": [
    "top50_popular_only_ids = list(train_light.groupby('MovieID')['UserID'].count().sort_values().keys()[-50:])\n",
    "top50_popular = []\n",
    "for movieID in top50_popular_only_ids:\n",
    "    top50_popular.append((movieID, movie_to_cnt[movieID], movie_to_genre[movieID]))"
   ]
  },
  {
   "cell_type": "code",
   "execution_count": 11,
   "metadata": {},
   "outputs": [
    {
     "data": {
      "text/html": [
       "<div>\n",
       "<style scoped>\n",
       "    .dataframe tbody tr th:only-of-type {\n",
       "        vertical-align: middle;\n",
       "    }\n",
       "\n",
       "    .dataframe tbody tr th {\n",
       "        vertical-align: top;\n",
       "    }\n",
       "\n",
       "    .dataframe thead th {\n",
       "        text-align: right;\n",
       "    }\n",
       "</style>\n",
       "<table border=\"1\" class=\"dataframe\">\n",
       "  <thead>\n",
       "    <tr style=\"text-align: right;\">\n",
       "      <th></th>\n",
       "      <th>UserID</th>\n",
       "      <th>preds</th>\n",
       "    </tr>\n",
       "  </thead>\n",
       "  <tbody>\n",
       "    <tr>\n",
       "      <th>0</th>\n",
       "      <td>19</td>\n",
       "      <td>[(1610, 1571, [Action, Thriller]), (1213, 1578...</td>\n",
       "    </tr>\n",
       "    <tr>\n",
       "      <th>1</th>\n",
       "      <td>20</td>\n",
       "      <td>[(1610, 1571, [Action, Thriller]), (1213, 1578...</td>\n",
       "    </tr>\n",
       "    <tr>\n",
       "      <th>2</th>\n",
       "      <td>22</td>\n",
       "      <td>[(1610, 1571, [Action, Thriller]), (1213, 1578...</td>\n",
       "    </tr>\n",
       "    <tr>\n",
       "      <th>3</th>\n",
       "      <td>23</td>\n",
       "      <td>[(1610, 1571, [Action, Thriller]), (1213, 1578...</td>\n",
       "    </tr>\n",
       "    <tr>\n",
       "      <th>4</th>\n",
       "      <td>24</td>\n",
       "      <td>[(1610, 1571, [Action, Thriller]), (1213, 1578...</td>\n",
       "    </tr>\n",
       "  </tbody>\n",
       "</table>\n",
       "</div>"
      ],
      "text/plain": [
       "   UserID                                              preds\n",
       "0      19  [(1610, 1571, [Action, Thriller]), (1213, 1578...\n",
       "1      20  [(1610, 1571, [Action, Thriller]), (1213, 1578...\n",
       "2      22  [(1610, 1571, [Action, Thriller]), (1213, 1578...\n",
       "3      23  [(1610, 1571, [Action, Thriller]), (1213, 1578...\n",
       "4      24  [(1610, 1571, [Action, Thriller]), (1213, 1578..."
      ]
     },
     "execution_count": 11,
     "metadata": {},
     "output_type": "execute_result"
    }
   ],
   "source": [
    "preds = []\n",
    "for user in users:\n",
    "    preds.append(top50_popular)\n",
    "df_preds = pd.DataFrame({'UserID': users, 'preds': preds})\n",
    "df_preds.head()"
   ]
  },
  {
   "cell_type": "code",
   "execution_count": 12,
   "metadata": {},
   "outputs": [
    {
     "data": {
      "text/html": [
       "<div>\n",
       "<style scoped>\n",
       "    .dataframe tbody tr th:only-of-type {\n",
       "        vertical-align: middle;\n",
       "    }\n",
       "\n",
       "    .dataframe tbody tr th {\n",
       "        vertical-align: top;\n",
       "    }\n",
       "\n",
       "    .dataframe thead th {\n",
       "        text-align: right;\n",
       "    }\n",
       "</style>\n",
       "<table border=\"1\" class=\"dataframe\">\n",
       "  <thead>\n",
       "    <tr style=\"text-align: right;\">\n",
       "      <th></th>\n",
       "      <th>UserID</th>\n",
       "      <th>preds</th>\n",
       "      <th>positive</th>\n",
       "    </tr>\n",
       "  </thead>\n",
       "  <tbody>\n",
       "    <tr>\n",
       "      <th>0</th>\n",
       "      <td>19</td>\n",
       "      <td>[(1610, 1571, [Action, Thriller]), (1213, 1578...</td>\n",
       "      <td>[1527, 223, 3409, 480, 2918, 405, 2653, 2004, ...</td>\n",
       "    </tr>\n",
       "    <tr>\n",
       "      <th>1</th>\n",
       "      <td>20</td>\n",
       "      <td>[(1610, 1571, [Action, Thriller]), (1213, 1578...</td>\n",
       "      <td>[1694, 2641, 3717, 1468, 1371, 1375, 1527, 352...</td>\n",
       "    </tr>\n",
       "    <tr>\n",
       "      <th>2</th>\n",
       "      <td>22</td>\n",
       "      <td>[(1610, 1571, [Action, Thriller]), (1213, 1578...</td>\n",
       "      <td>[1198, 2193, 1097, 3176, 2161, 2005, 1127, 542...</td>\n",
       "    </tr>\n",
       "    <tr>\n",
       "      <th>3</th>\n",
       "      <td>23</td>\n",
       "      <td>[(1610, 1571, [Action, Thriller]), (1213, 1578...</td>\n",
       "      <td>[2259, 2411, 1258, 2712, 2148, 3052, 2641, 264...</td>\n",
       "    </tr>\n",
       "    <tr>\n",
       "      <th>4</th>\n",
       "      <td>24</td>\n",
       "      <td>[(1610, 1571, [Action, Thriller]), (1213, 1578...</td>\n",
       "      <td>[2657, 1635, 425, 1959, 2757]</td>\n",
       "    </tr>\n",
       "  </tbody>\n",
       "</table>\n",
       "</div>"
      ],
      "text/plain": [
       "   UserID                                              preds  \\\n",
       "0      19  [(1610, 1571, [Action, Thriller]), (1213, 1578...   \n",
       "1      20  [(1610, 1571, [Action, Thriller]), (1213, 1578...   \n",
       "2      22  [(1610, 1571, [Action, Thriller]), (1213, 1578...   \n",
       "3      23  [(1610, 1571, [Action, Thriller]), (1213, 1578...   \n",
       "4      24  [(1610, 1571, [Action, Thriller]), (1213, 1578...   \n",
       "\n",
       "                                            positive  \n",
       "0  [1527, 223, 3409, 480, 2918, 405, 2653, 2004, ...  \n",
       "1  [1694, 2641, 3717, 1468, 1371, 1375, 1527, 352...  \n",
       "2  [1198, 2193, 1097, 3176, 2161, 2005, 1127, 542...  \n",
       "3  [2259, 2411, 1258, 2712, 2148, 3052, 2641, 264...  \n",
       "4                      [2657, 1635, 425, 1959, 2757]  "
      ]
     },
     "execution_count": 12,
     "metadata": {},
     "output_type": "execute_result"
    }
   ],
   "source": [
    "df_preds = df_preds.set_index('UserID').join(positive_pairs.set_index('UserID'), how='left', on='UserID').reset_index()\n",
    "df_preds.head()"
   ]
  },
  {
   "cell_type": "code",
   "execution_count": 43,
   "metadata": {},
   "outputs": [
    {
     "name": "stdout",
     "output_type": "stream",
     "text": [
      "User-wise recall@50 for top-k most popular: 13.25 %\n",
      "User-wise diversity@50 for top-k most popular: 16.0\n",
      "User-wise long_tail@50 for top-k most popular: 2042.0\n"
     ]
    }
   ],
   "source": [
    "print('User-wise recall@50 for top-k most popular:', round(metric_recall50(df_preds) * 100, 2), '%')\n",
    "print('User-wise diversity@50 for top-k most popular:', metric_diversity50(df_preds))\n",
    "print('User-wise long_tail@50 for top-k most popular:', metric_long_tail50(df_preds))"
   ]
  },
  {
   "cell_type": "markdown",
   "metadata": {},
   "source": [
    "### KNNBasic"
   ]
  },
  {
   "cell_type": "code",
   "execution_count": 52,
   "metadata": {},
   "outputs": [],
   "source": [
    "def get_top_50(events):\n",
    "    tmp = []\n",
    "    for movie, rating in zip(events['MovieID'], events['Rating']):\n",
    "        tmp.append((movie, rating))\n",
    "    tmp.sort(key=lambda x: x[1])\n",
    "    return [it[0] for it in tmp[-50:]]\n",
    "\n",
    "def build_preds_dataframe(predictions):\n",
    "    tmp_u = []\n",
    "    tmp_i = []\n",
    "    tmp_r = []\n",
    "    for pred in predictions:\n",
    "        tmp_u.append(pred[0])\n",
    "        tmp_i.append((pred[1], movie_to_cnt[pred[1]], movie_to_genre[pred[1]]))\n",
    "        tmp_r.append(pred[3])\n",
    "    tmp = pd.DataFrame({'UserID': tmp_u, 'MovieID': tmp_i, 'Rating': tmp_r})\n",
    "    tmp = tmp.groupby('UserID').apply(get_top_50).reset_index()\n",
    "    tmp['preds'] = tmp[0]\n",
    "    tmp = tmp[['UserID', 'preds']]\n",
    "    df_preds = positive_pairs.copy()\n",
    "    df_preds = df_preds.set_index('UserID').join(tmp.set_index('UserID'), how='left', on='UserID').reset_index()\n",
    "    df_preds = df_preds.fillna(-1)\n",
    "    return df_preds"
   ]
  },
  {
   "cell_type": "code",
   "execution_count": 44,
   "metadata": {},
   "outputs": [],
   "source": [
    "from surprise import KNNBasic"
   ]
  },
  {
   "cell_type": "code",
   "execution_count": 45,
   "metadata": {},
   "outputs": [
    {
     "name": "stdout",
     "output_type": "stream",
     "text": [
      "Computing the msd similarity matrix...\n",
      "Done computing similarity matrix.\n"
     ]
    }
   ],
   "source": [
    "knn = KNNBasic(k=10)\n",
    "knn.fit(train_surprise)\n",
    "predictions_knnbasic = knn.test(testset_surprise) # !!!! 64 min, warning !!!!"
   ]
  },
  {
   "cell_type": "code",
   "execution_count": 54,
   "metadata": {},
   "outputs": [],
   "source": [
    "df_preds = build_preds_dataframe(predictions_knnbasic)"
   ]
  },
  {
   "cell_type": "code",
   "execution_count": 55,
   "metadata": {},
   "outputs": [
    {
     "data": {
      "text/html": [
       "<div>\n",
       "<style scoped>\n",
       "    .dataframe tbody tr th:only-of-type {\n",
       "        vertical-align: middle;\n",
       "    }\n",
       "\n",
       "    .dataframe tbody tr th {\n",
       "        vertical-align: top;\n",
       "    }\n",
       "\n",
       "    .dataframe thead th {\n",
       "        text-align: right;\n",
       "    }\n",
       "</style>\n",
       "<table border=\"1\" class=\"dataframe\">\n",
       "  <thead>\n",
       "    <tr style=\"text-align: right;\">\n",
       "      <th></th>\n",
       "      <th>UserID</th>\n",
       "      <th>positive</th>\n",
       "      <th>preds</th>\n",
       "    </tr>\n",
       "  </thead>\n",
       "  <tbody>\n",
       "    <tr>\n",
       "      <th>0</th>\n",
       "      <td>19</td>\n",
       "      <td>[1527, 223, 3409, 480, 2918, 405, 2653, 2004, ...</td>\n",
       "      <td>[(1234, 974, [Comedy, Crime]), (557, 2, [Drama...</td>\n",
       "    </tr>\n",
       "    <tr>\n",
       "      <th>1</th>\n",
       "      <td>20</td>\n",
       "      <td>[1694, 2641, 3717, 1468, 1371, 1375, 1527, 352...</td>\n",
       "      <td>[(1242, 1048, [Action, Drama, War]), (3468, 40...</td>\n",
       "    </tr>\n",
       "    <tr>\n",
       "      <th>2</th>\n",
       "      <td>22</td>\n",
       "      <td>[1198, 2193, 1097, 3176, 2161, 2005, 1127, 542...</td>\n",
       "      <td>[(1947, 681, [Musical, Romance]), (3951, 28, [...</td>\n",
       "    </tr>\n",
       "    <tr>\n",
       "      <th>3</th>\n",
       "      <td>23</td>\n",
       "      <td>[2259, 2411, 1258, 2712, 2148, 3052, 2641, 264...</td>\n",
       "      <td>[(2908, 785, [Drama]), (1664, 4, [Drama]), (29...</td>\n",
       "    </tr>\n",
       "    <tr>\n",
       "      <th>4</th>\n",
       "      <td>24</td>\n",
       "      <td>[2657, 1635, 425, 1959, 2757]</td>\n",
       "      <td>[(1208, 1094, [Drama, War]), (1148, 832, [Anim...</td>\n",
       "    </tr>\n",
       "    <tr>\n",
       "      <th>...</th>\n",
       "      <td>...</td>\n",
       "      <td>...</td>\n",
       "      <td>...</td>\n",
       "    </tr>\n",
       "    <tr>\n",
       "      <th>1049</th>\n",
       "      <td>6001</td>\n",
       "      <td>[1358, 2672, 454, 1687, 1653, 3947, 1658, 965,...</td>\n",
       "      <td>[(3675, 246, [Musical]), (1131, 192, [Drama]),...</td>\n",
       "    </tr>\n",
       "    <tr>\n",
       "      <th>1050</th>\n",
       "      <td>6002</td>\n",
       "      <td>[2013, 3451, 144, 1161, 1219, 2946, 2520, 3147...</td>\n",
       "      <td>[(1963, 232, [Comedy]), (3135, 182, [Drama]), ...</td>\n",
       "    </tr>\n",
       "    <tr>\n",
       "      <th>1051</th>\n",
       "      <td>6016</td>\n",
       "      <td>[2062, 339, 1835, 252, 3894, 920, 1339, 2941, ...</td>\n",
       "      <td>[(1069, 101, [Film-Noir, Thriller]), (3090, 16...</td>\n",
       "    </tr>\n",
       "    <tr>\n",
       "      <th>1052</th>\n",
       "      <td>6028</td>\n",
       "      <td>[3000]</td>\n",
       "      <td>[(2324, 1084, [Comedy, Drama]), (898, 548, [Co...</td>\n",
       "    </tr>\n",
       "    <tr>\n",
       "      <th>1053</th>\n",
       "      <td>6040</td>\n",
       "      <td>[2725, 2917, 1270, 1333, 1921, 232, 3671, 161,...</td>\n",
       "      <td>[(2677, 207, [Documentary]), (3949, 125, [Dram...</td>\n",
       "    </tr>\n",
       "  </tbody>\n",
       "</table>\n",
       "<p>1054 rows × 3 columns</p>\n",
       "</div>"
      ],
      "text/plain": [
       "      UserID                                           positive  \\\n",
       "0         19  [1527, 223, 3409, 480, 2918, 405, 2653, 2004, ...   \n",
       "1         20  [1694, 2641, 3717, 1468, 1371, 1375, 1527, 352...   \n",
       "2         22  [1198, 2193, 1097, 3176, 2161, 2005, 1127, 542...   \n",
       "3         23  [2259, 2411, 1258, 2712, 2148, 3052, 2641, 264...   \n",
       "4         24                      [2657, 1635, 425, 1959, 2757]   \n",
       "...      ...                                                ...   \n",
       "1049    6001  [1358, 2672, 454, 1687, 1653, 3947, 1658, 965,...   \n",
       "1050    6002  [2013, 3451, 144, 1161, 1219, 2946, 2520, 3147...   \n",
       "1051    6016  [2062, 339, 1835, 252, 3894, 920, 1339, 2941, ...   \n",
       "1052    6028                                             [3000]   \n",
       "1053    6040  [2725, 2917, 1270, 1333, 1921, 232, 3671, 161,...   \n",
       "\n",
       "                                                  preds  \n",
       "0     [(1234, 974, [Comedy, Crime]), (557, 2, [Drama...  \n",
       "1     [(1242, 1048, [Action, Drama, War]), (3468, 40...  \n",
       "2     [(1947, 681, [Musical, Romance]), (3951, 28, [...  \n",
       "3     [(2908, 785, [Drama]), (1664, 4, [Drama]), (29...  \n",
       "4     [(1208, 1094, [Drama, War]), (1148, 832, [Anim...  \n",
       "...                                                 ...  \n",
       "1049  [(3675, 246, [Musical]), (1131, 192, [Drama]),...  \n",
       "1050  [(1963, 232, [Comedy]), (3135, 182, [Drama]), ...  \n",
       "1051  [(1069, 101, [Film-Noir, Thriller]), (3090, 16...  \n",
       "1052  [(2324, 1084, [Comedy, Drama]), (898, 548, [Co...  \n",
       "1053  [(2677, 207, [Documentary]), (3949, 125, [Dram...  \n",
       "\n",
       "[1054 rows x 3 columns]"
      ]
     },
     "execution_count": 55,
     "metadata": {},
     "output_type": "execute_result"
    }
   ],
   "source": [
    "df_preds"
   ]
  },
  {
   "cell_type": "code",
   "execution_count": 56,
   "metadata": {},
   "outputs": [
    {
     "name": "stdout",
     "output_type": "stream",
     "text": [
      "User-wise recall@50 for top-k most popular: 5.72 %\n",
      "User-wise diversity@50 for top-k most popular: 15.12618595825427\n",
      "User-wise long_tail@50 for top-k most popular: 194.62452290076337\n"
     ]
    }
   ],
   "source": [
    "print('User-wise recall@50 for top-k most popular:', round(metric_recall50(df_preds) * 100, 2), '%')\n",
    "print('User-wise diversity@50 for top-k most popular:', metric_diversity50(df_preds))\n",
    "print('User-wise long_tail@50 for top-k most popular:', metric_long_tail50(df_preds))"
   ]
  },
  {
   "cell_type": "markdown",
   "metadata": {},
   "source": [
    "### SVD"
   ]
  },
  {
   "cell_type": "code",
   "execution_count": 57,
   "metadata": {},
   "outputs": [],
   "source": [
    "from surprise import SVD"
   ]
  },
  {
   "cell_type": "code",
   "execution_count": 58,
   "metadata": {},
   "outputs": [],
   "source": [
    "svd = SVD()\n",
    "svd.fit(train_surprise)\n",
    "predictions_svd = svd.test(testset_surprise)\n"
   ]
  },
  {
   "cell_type": "code",
   "execution_count": 60,
   "metadata": {},
   "outputs": [],
   "source": [
    "df_preds = build_preds_dataframe(predictions_svd)"
   ]
  },
  {
   "cell_type": "code",
   "execution_count": 61,
   "metadata": {},
   "outputs": [
    {
     "name": "stdout",
     "output_type": "stream",
     "text": [
      "User-wise recall@50 for svd: 12.58 %\n",
      "User-wise diversity@50 for svd: 14.770398481973434\n",
      "User-wise long_tail@50 for svd: 479.5706106870229\n"
     ]
    }
   ],
   "source": [
    "print('User-wise recall@50 for svd:', round(metric_recall50(df_preds) * 100, 2), '%')\n",
    "print('User-wise diversity@50 for svd:', metric_diversity50(df_preds))\n",
    "print('User-wise long_tail@50 for svd:', metric_long_tail50(df_preds))"
   ]
  }
 ],
 "metadata": {
  "kernelspec": {
   "display_name": "base",
   "language": "python",
   "name": "python3"
  },
  "language_info": {
   "codemirror_mode": {
    "name": "ipython",
    "version": 3
   },
   "file_extension": ".py",
   "mimetype": "text/x-python",
   "name": "python",
   "nbconvert_exporter": "python",
   "pygments_lexer": "ipython3",
   "version": "3.11.4"
  }
 },
 "nbformat": 4,
 "nbformat_minor": 2
}
